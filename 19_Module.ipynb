{
 "cells": [
  {
   "cell_type": "markdown",
   "metadata": {},
   "source": [
    "Modular programming refers to the process of breaking a large, unwieldy programming task into separate, smaller, more manageable subtasks or modules. Individual modules can then be cobbled together like building blocks to create a larger application.\n",
    "\n",
    "There are several advantages to modularizing code in a large application:\n",
    "\n",
    "Simplicity: Rather than focusing on the entire problem at hand, a module typically focuses on one relatively small portion of the problem. If you’re working on a single module, you’ll have a smaller problem domain to wrap your head around. This makes development easier and less error-prone.\n",
    "\n",
    "Maintainability: Modules are typically designed so that they enforce logical boundaries between different problem domains. If modules are written in a way that minimizes interdependency, there is decreased likelihood that modifications to a single module will have an impact on other parts of the program. (You may even be able to make changes to a module without having any knowledge of the application outside that module.) This makes it more viable for a team of many programmers to work collaboratively on a large application.\n",
    "\n",
    "Reusability: Functionality defined in a single module can be easily reused (through an appropriately defined interface) by other parts of the application. This eliminates the need to recreate duplicate code.\n",
    "\n",
    "Scoping: Modules typically define a separate namespace, which helps avoid collisions between identifiers in different areas of a program. (One of the tenets in the Zen of Python is Namespaces are one honking great idea—let’s do more of those!)\n",
    "\n",
    "Functions, modules and packages are all constructs in Python that promote code modularization."
   ]
  },
  {
   "cell_type": "markdown",
   "metadata": {},
   "source": [
    "## Python Modules: Overview\n",
    "There are actually three different ways to define a module in Python:\n",
    "\n",
    "A module can be written in Python itself.\n",
    "A module can be written in C and loaded dynamically at run-time, like the re (regular expression) module.\n",
    "A built-in module is intrinsically contained in the interpreter, like the itertools module.\n",
    "A module’s contents are accessed the same way in all three cases: with the import statement.\n",
    "\n",
    "Here, the focus will mostly be on modules that are written in Python. The cool thing about modules written in Python is that they are exceedingly straightforward to build. All you need to do is create a file that contains legitimate Python code and then give the file a name with a .py extension. That’s it! No special syntax or voodoo is necessary.\n",
    "\n",
    "For example, suppose you have created a file called mod.py containing the following:"
   ]
  },
  {
   "cell_type": "code",
   "execution_count": null,
   "metadata": {},
   "outputs": [],
   "source": [
    "import mod\n",
    "print(mod.s)\n",
    "print (mod.a)\n",
    "mod.foo(['quux', 'corge', 'grault'])\n",
    "x = mod.Foo()\n",
    "x"
   ]
  },
  {
   "cell_type": "markdown",
   "metadata": {},
   "source": [
    "### The Module Search Path\n",
    "\n",
    "Continuing with the above example, let’s take a look at what happens when Python executes the statement:\n",
    "\n",
    "When the interpreter executes the above import statement, it searches for mod.py in a list of directories assembled from the following sources:\n",
    "\n",
    "* The directory from which the input script was run or the current directory if the interpreter is being run interactively\n",
    "* The list of directories contained in the PYTHONPATH environment variable, if it is set. (The format for PYTHONPATH is OS-dependent but should mimic the PATH environment variable.)\n",
    "* An installation-dependent list of directories configured at the time Python is installed\n",
    "* The resulting search path is accessible in the Python variable sys.path, which is obtained from a module named sys:"
   ]
  },
  {
   "cell_type": "code",
   "execution_count": null,
   "metadata": {},
   "outputs": [],
   "source": [
    "import sys\n",
    "sys.path"
   ]
  },
  {
   "cell_type": "markdown",
   "metadata": {},
   "source": [
    "Thus, to ensure your module is found, you need to do one of the following:\n",
    "\n",
    "* Put mod.py in the directory where the input script is located or the current directory, if interactive\n",
    "* Modify the PYTHONPATH environment variable to contain the directory where mod.py is located before starting the interpreter\n",
    "Or: Put mod.py in one of the directories already contained in the PYTHONPATH variable\n",
    "Put mod.py in one of the installation-dependent directories, which you may or may not have write-access to, depending on the OS\n",
    "* There is actually one additional option: you can put the module file in any directory of your choice and then modify sys.path at run-time so that it contains that directory. For example, in this case, you could put mod.py in directory C:\\Users\\john and then issue the following statements:"
   ]
  },
  {
   "cell_type": "code",
   "execution_count": null,
   "metadata": {},
   "outputs": [],
   "source": [
    "a=sys.path.append(r'C:\\Users\\john')\n",
    "sys.path"
   ]
  },
  {
   "cell_type": "code",
   "execution_count": null,
   "metadata": {},
   "outputs": [],
   "source": [
    "import sys\n",
    "a=sys.path\n",
    "print(a)\n",
    "mypath='C:\\Users\\john'\n",
    "if mypath not in a:# sys.path\n",
    "    sys.path.append(mypath)\n",
    "else :\n",
    "    print(\"no need to add the path\"\")"
   ]
  },
  {
   "cell_type": "raw",
   "metadata": {},
   "source": [
    "Once a module has been imported, you can determine the location where it was found with the module’s __file__ attribute:"
   ]
  },
  {
   "cell_type": "code",
   "execution_count": null,
   "metadata": {},
   "outputs": [],
   "source": [
    "import mod\n",
    "mod.__file__\n",
    "# import re\n",
    "# re.__file__\n",
    "# import socket\n",
    "# dir(mod)"
   ]
  },
  {
   "cell_type": "markdown",
   "metadata": {},
   "source": [
    "\n",
    "### The import Statement\n"
   ]
  },
  {
   "cell_type": "markdown",
   "metadata": {},
   "source": [
    "Module contents are made available to the caller with the import statement. The import statement takes many different forms, shown below.\n",
    "\n",
    "import <module_name>\n",
    "The simplest form is the one already shown above:\n",
    "\n"
   ]
  },
  {
   "cell_type": "markdown",
   "metadata": {},
   "source": [
    "Note that this does not make the module contents directly accessible to the caller. \n",
    "Each module has its own private symbol table, which serves as the global symbol table for all objects \n",
    "defined in the module. Thus, a module creates a separate namespace, as already noted.\n",
    "\n",
    "The statement import <module_name> only places <module_name> in the caller’s symbol table.\n",
    "The objects that are defined in the module remain in the module’s private symbol table.\n",
    "\n",
    "From the caller, objects in the module are only accessible when prefixed with <module_name> via dot notation, \n",
    "as illustrated below.\n",
    "\n",
    "After the following import statement, mod is placed into the local symbol table. Thus, \n",
    "mod has meaning in the caller’s local context:\n"
   ]
  },
  {
   "cell_type": "code",
   "execution_count": null,
   "metadata": {},
   "outputs": [],
   "source": [
    "import mod\n",
    "mod"
   ]
  },
  {
   "cell_type": "markdown",
   "metadata": {},
   "source": [
    "But s and foo remain in the module’s private symbol table and are not meaningful in the local context:\n"
   ]
  },
  {
   "cell_type": "markdown",
   "metadata": {},
   "source": [
    "To be accessed in the local context, names of objects defined in the module must be prefixed by mod:\n"
   ]
  },
  {
   "cell_type": "code",
   "execution_count": null,
   "metadata": {},
   "outputs": [],
   "source": [
    "import mod\n",
    "print (mod.s)\n",
    "mod.foo('quux')\n",
    "print(\"hello\")"
   ]
  },
  {
   "cell_type": "raw",
   "metadata": {},
   "source": [
    "Several comma-separated modules may be specified in a single import statement:\n",
    "\n",
    "import <module_name>[, <module_name> ...]\n"
   ]
  },
  {
   "cell_type": "markdown",
   "metadata": {},
   "source": [
    "### from <module_name> import <name(s)>\n"
   ]
  },
  {
   "cell_type": "markdown",
   "metadata": {},
   "source": [
    "An alternate form of the import statement allows individual objects from the module to be\n",
    "imported directly into the caller’s symbol table:\n",
    "\n",
    "from <module_name> import <name(s)>\n",
    "Following execution of the above statement, <name(s)> can be referenced in the\n",
    "caller’s environment without the <module_name> prefix:\n"
   ]
  },
  {
   "cell_type": "code",
   "execution_count": null,
   "metadata": {},
   "outputs": [],
   "source": [
    "from mod import s, foo\n",
    "# import mod\n",
    "print(s)\n",
    "foo('quux')\n",
    "# print(mod.s)\n",
    "# # s=\n",
    "# foo=\n",
    "# def()\n"
   ]
  },
  {
   "cell_type": "code",
   "execution_count": null,
   "metadata": {},
   "outputs": [],
   "source": [
    "from mod import Foo\n",
    "x = Foo()\n",
    "print(x.get_name())\n",
    "# Because this form of import places the object names \n",
    "# directly into the caller’s symbol table, any objects that \n",
    "# already exist with the same name will be overwritten:\n"
   ]
  },
  {
   "cell_type": "code",
   "execution_count": 8,
   "metadata": {},
   "outputs": [
    {
     "name": "stdout",
     "output_type": "stream",
     "text": [
      "['foo', 'bar', 'baz']\n",
      "[100, 200, 300]\n"
     ]
    }
   ],
   "source": [
    "a = ['foo', 'bar', 'baz']\n",
    "print (a)\n",
    "from mod import a\n",
    "print(a)"
   ]
  },
  {
   "cell_type": "raw",
   "metadata": {},
   "source": [
    "It is even possible to indiscriminately import everything from a module at one fell swoop:\n",
    "\n",
    "from <module_name> import *\n",
    "This will place the names of all objects from <module_name> into the local symbol table, with the exception of any that begin with the underscore (_) character.\n",
    "\n",
    "For example:\n"
   ]
  },
  {
   "cell_type": "code",
   "execution_count": null,
   "metadata": {},
   "outputs": [],
   "source": [
    "a"
   ]
  },
  {
   "cell_type": "code",
   "execution_count": null,
   "metadata": {},
   "outputs": [],
   "source": [
    "foo"
   ]
  },
  {
   "cell_type": "code",
   "execution_count": null,
   "metadata": {},
   "outputs": [],
   "source": [
    "Foo"
   ]
  },
  {
   "cell_type": "raw",
   "metadata": {},
   "source": [
    "This isn’t necessarily recommended in large-scale production code. It’s a bit dangerous because you are entering names into the local symbol table en masse. Unless you know them all well and can be confident there won’t be a conflict, you have a decent chance of overwriting an existing name inadvertently. However, this syntax is quite handy when you are just mucking around with the interactive interpreter, for testing or discovery purposes, because it quickly gives you access to everything a module has to offer without a lot of typing.\n",
    "\n",
    "from <module_name> import <name> as <alt_name>\n",
    "It is also possible to import individual objects but enter them into the local symbol table with alternate names:\n",
    "\n",
    "from <module_name> import <name> as <alt_name>[, <name> as <alt_name> …]\n",
    "This makes it possible to place names directly into the local symbol table but avoid conflicts with previously existing names:\n"
   ]
  },
  {
   "cell_type": "code",
   "execution_count": 9,
   "metadata": {},
   "outputs": [
    {
     "name": "stdout",
     "output_type": "stream",
     "text": [
      "python\n",
      "If Comrade Napoleon says it, it must be right.\n",
      "5454\n",
      "[100, 200, 300]\n"
     ]
    }
   ],
   "source": [
    "from mod import s as amodstring, a as amodlist\n",
    "s=\"python\"\n",
    "a=5454\n",
    "print(s)\n",
    "print(amodstring)\n",
    "print(a)\n",
    "print(amodlist)"
   ]
  },
  {
   "cell_type": "markdown",
   "metadata": {},
   "source": [
    "import <module_name> as <alt_name>\n",
    "You can also import an entire module under an alternate name:\n"
   ]
  },
  {
   "cell_type": "code",
   "execution_count": null,
   "metadata": {},
   "outputs": [],
   "source": [
    "import mod as my_module\n",
    "import numpy as np\n",
    "import panda as pd\n",
    "import matplotlib as mp\n",
    "print(my_module.a)\n",
    "print(my_module.foo('qux'))\n",
    "import mod \n",
    "print(mod.a)\n",
    "print(mod.foo('qux'))\n",
    "matplotlib.draw()\n",
    "mp.draw()"
   ]
  },
  {
   "cell_type": "markdown",
   "metadata": {},
   "source": [
    "However, Python 3 does not allow the indiscriminate import * syntax from within a function:"
   ]
  },
  {
   "cell_type": "code",
   "execution_count": 10,
   "metadata": {},
   "outputs": [
    {
     "name": "stdout",
     "output_type": "stream",
     "text": [
      "If Comrade Napoleon says it, it must be right.\n",
      "[100, 200, 300]\n"
     ]
    }
   ],
   "source": [
    "from mod import *\n",
    "print(s)\n",
    "print(a)\n",
    "# foo(\"abcd\")"
   ]
  },
  {
   "cell_type": "code",
   "execution_count": null,
   "metadata": {},
   "outputs": [],
   "source": [
    "def bar():\n",
    "    from mod import *\n",
    "#     from mod import a\n",
    "    print(a)\n",
    "\n",
    "bar()    "
   ]
  },
  {
   "cell_type": "markdown",
   "metadata": {},
   "source": [
    "Lastly, a try statement with an except ImportError clause can be used to guard against unsuccessful import attempts:\n"
   ]
  },
  {
   "cell_type": "code",
   "execution_count": 11,
   "metadata": {},
   "outputs": [
    {
     "name": "stdout",
     "output_type": "stream",
     "text": [
      "Module not found\n"
     ]
    }
   ],
   "source": [
    "try:\n",
    "    # Non-existent module\n",
    "       import mod123\n",
    "except ImportError:\n",
    "    print('Module not found')"
   ]
  },
  {
   "cell_type": "code",
   "execution_count": null,
   "metadata": {},
   "outputs": [],
   "source": [
    "import sys\n",
    "dir(sys)"
   ]
  },
  {
   "cell_type": "markdown",
   "metadata": {},
   "source": [
    "This module provides access to some objects used or maintained by the\n",
    "interpreter and to functions that interact strongly with the interpreter."
   ]
  },
  {
   "cell_type": "code",
   "execution_count": 12,
   "metadata": {},
   "outputs": [
    {
     "name": "stdout",
     "output_type": "stream",
     "text": [
      "3.9.0 (tags/v3.9.0:9cf6752, Oct  5 2020, 15:34:40) [MSC v.1927 64 bit (AMD64)]\n"
     ]
    }
   ],
   "source": [
    "import sys\n",
    "print (sys.version)\n",
    "# print(sys.__package__)\n",
    "# This module provides access to some objects used or maintained by the\n",
    "#     interpreter and to functions that interact strongly with the interpreter."
   ]
  },
  {
   "cell_type": "code",
   "execution_count": 13,
   "metadata": {},
   "outputs": [
    {
     "name": "stdout",
     "output_type": "stream",
     "text": [
      "sys.version_info(major=3, minor=9, micro=0, releaselevel='final', serial=0)\n"
     ]
    }
   ],
   "source": [
    "print (sys.version_info)"
   ]
  },
  {
   "cell_type": "code",
   "execution_count": 14,
   "metadata": {},
   "outputs": [
    {
     "name": "stdout",
     "output_type": "stream",
     "text": [
      "Help on built-in module sys:\n",
      "\n",
      "NAME\n",
      "    sys\n",
      "\n",
      "MODULE REFERENCE\n",
      "    https://docs.python.org/3.9/library/sys\n",
      "    \n",
      "    The following documentation is automatically generated from the Python\n",
      "    source files.  It may be incomplete, incorrect or include features that\n",
      "    are considered implementation detail and may vary between Python\n",
      "    implementations.  When in doubt, consult the module reference at the\n",
      "    location listed above.\n",
      "\n",
      "DESCRIPTION\n",
      "    This module provides access to some objects used or maintained by the\n",
      "    interpreter and to functions that interact strongly with the interpreter.\n",
      "    \n",
      "    Dynamic objects:\n",
      "    \n",
      "    argv -- command line arguments; argv[0] is the script pathname if known\n",
      "    path -- module search path; path[0] is the script directory, else ''\n",
      "    modules -- dictionary of loaded modules\n",
      "    \n",
      "    displayhook -- called to show results in an interactive session\n",
      "    excepthook -- called to handle any uncaught exception other than SystemExit\n",
      "      To customize printing in an interactive session or to install a custom\n",
      "      top-level exception handler, assign other functions to replace these.\n",
      "    \n",
      "    stdin -- standard input file object; used by input()\n",
      "    stdout -- standard output file object; used by print()\n",
      "    stderr -- standard error object; used for error messages\n",
      "      By assigning other file objects (or objects that behave like files)\n",
      "      to these, it is possible to redirect all of the interpreter's I/O.\n",
      "    \n",
      "    last_type -- type of last uncaught exception\n",
      "    last_value -- value of last uncaught exception\n",
      "    last_traceback -- traceback of last uncaught exception\n",
      "      These three are only available in an interactive session after a\n",
      "      traceback has been printed.\n",
      "    \n",
      "    Static objects:\n",
      "    \n",
      "    builtin_module_names -- tuple of module names built into this interpreter\n",
      "    copyright -- copyright notice pertaining to this interpreter\n",
      "    exec_prefix -- prefix used to find the machine-specific Python library\n",
      "    executable -- absolute path of the executable binary of the Python interpreter\n",
      "    float_info -- a named tuple with information about the float implementation.\n",
      "    float_repr_style -- string indicating the style of repr() output for floats\n",
      "    hash_info -- a named tuple with information about the hash algorithm.\n",
      "    hexversion -- version information encoded as a single integer\n",
      "    implementation -- Python implementation information.\n",
      "    int_info -- a named tuple with information about the int implementation.\n",
      "    maxsize -- the largest supported length of containers.\n",
      "    maxunicode -- the value of the largest Unicode code point\n",
      "    platform -- platform identifier\n",
      "    prefix -- prefix used to find the Python library\n",
      "    thread_info -- a named tuple with information about the thread implementation.\n",
      "    version -- the version of this interpreter as a string\n",
      "    version_info -- version information as a named tuple\n",
      "    dllhandle -- [Windows only] integer handle of the Python DLL\n",
      "    winver -- [Windows only] version number of the Python DLL\n",
      "    _enablelegacywindowsfsencoding -- [Windows only]\n",
      "    __stdin__ -- the original stdin; don't touch!\n",
      "    __stdout__ -- the original stdout; don't touch!\n",
      "    __stderr__ -- the original stderr; don't touch!\n",
      "    __displayhook__ -- the original displayhook; don't touch!\n",
      "    __excepthook__ -- the original excepthook; don't touch!\n",
      "    \n",
      "    Functions:\n",
      "    \n",
      "    displayhook() -- print an object to the screen, and save it in builtins._\n",
      "    excepthook() -- print an exception and its traceback to sys.stderr\n",
      "    exc_info() -- return thread-safe information about the current exception\n",
      "    exit() -- exit the interpreter by raising SystemExit\n",
      "    getdlopenflags() -- returns flags to be used for dlopen() calls\n",
      "    getprofile() -- get the global profiling function\n",
      "    getrefcount() -- return the reference count for an object (plus one :-)\n",
      "    getrecursionlimit() -- return the max recursion depth for the interpreter\n",
      "    getsizeof() -- return the size of an object in bytes\n",
      "    gettrace() -- get the global debug tracing function\n",
      "    setdlopenflags() -- set the flags to be used for dlopen() calls\n",
      "    setprofile() -- set the global profiling function\n",
      "    setrecursionlimit() -- set the max recursion depth for the interpreter\n",
      "    settrace() -- set the global debug tracing function\n",
      "\n",
      "FUNCTIONS\n",
      "    __breakpointhook__ = breakpointhook(...)\n",
      "        breakpointhook(*args, **kws)\n",
      "        \n",
      "        This hook function is called by built-in breakpoint().\n",
      "    \n",
      "    __displayhook__ = displayhook(object, /)\n",
      "        Print an object to sys.stdout and also save it in builtins._\n",
      "    \n",
      "    __excepthook__ = excepthook(exctype, value, traceback, /)\n",
      "        Handle an exception by displaying it with a traceback on sys.stderr.\n",
      "    \n",
      "    __unraisablehook__ = unraisablehook(unraisable, /)\n",
      "        Handle an unraisable exception.\n",
      "        \n",
      "        The unraisable argument has the following attributes:\n",
      "        \n",
      "        * exc_type: Exception type.\n",
      "        * exc_value: Exception value, can be None.\n",
      "        * exc_traceback: Exception traceback, can be None.\n",
      "        * err_msg: Error message, can be None.\n",
      "        * object: Object causing the exception, can be None.\n",
      "    \n",
      "    addaudithook(hook)\n",
      "        Adds a new audit hook callback.\n",
      "    \n",
      "    audit(...)\n",
      "        audit(event, *args)\n",
      "        \n",
      "        Passes the event to any audit hooks that are attached.\n",
      "    \n",
      "    call_tracing(func, args, /)\n",
      "        Call func(*args), while tracing is enabled.\n",
      "        \n",
      "        The tracing state is saved, and restored afterwards.  This is intended\n",
      "        to be called from a debugger from a checkpoint, to recursively debug\n",
      "        some other code.\n",
      "    \n",
      "    exc_info()\n",
      "        Return current exception information: (type, value, traceback).\n",
      "        \n",
      "        Return information about the most recent exception caught by an except\n",
      "        clause in the current stack frame or in an older stack frame.\n",
      "    \n",
      "    exit(status=None, /)\n",
      "        Exit the interpreter by raising SystemExit(status).\n",
      "        \n",
      "        If the status is omitted or None, it defaults to zero (i.e., success).\n",
      "        If the status is an integer, it will be used as the system exit status.\n",
      "        If it is another kind of object, it will be printed and the system\n",
      "        exit status will be one (i.e., failure).\n",
      "    \n",
      "    get_asyncgen_hooks()\n",
      "        Return the installed asynchronous generators hooks.\n",
      "        \n",
      "        This returns a namedtuple of the form (firstiter, finalizer).\n",
      "    \n",
      "    get_coroutine_origin_tracking_depth()\n",
      "        Check status of origin tracking for coroutine objects in this thread.\n",
      "    \n",
      "    getallocatedblocks()\n",
      "        Return the number of memory blocks currently allocated.\n",
      "    \n",
      "    getdefaultencoding()\n",
      "        Return the current default encoding used by the Unicode implementation.\n",
      "    \n",
      "    getfilesystemencodeerrors()\n",
      "        Return the error mode used Unicode to OS filename conversion.\n",
      "    \n",
      "    getfilesystemencoding()\n",
      "        Return the encoding used to convert Unicode filenames to OS filenames.\n",
      "    \n",
      "    getprofile()\n",
      "        Return the profiling function set with sys.setprofile.\n",
      "        \n",
      "        See the profiler chapter in the library manual.\n",
      "    \n",
      "    getrecursionlimit()\n",
      "        Return the current value of the recursion limit.\n",
      "        \n",
      "        The recursion limit is the maximum depth of the Python interpreter\n",
      "        stack.  This limit prevents infinite recursion from causing an overflow\n",
      "        of the C stack and crashing Python.\n",
      "    \n",
      "    getrefcount(object, /)\n",
      "        Return the reference count of object.\n",
      "        \n",
      "        The count returned is generally one higher than you might expect,\n",
      "        because it includes the (temporary) reference as an argument to\n",
      "        getrefcount().\n",
      "    \n",
      "    getsizeof(...)\n",
      "        getsizeof(object [, default]) -> int\n",
      "        \n",
      "        Return the size of object in bytes.\n",
      "    \n",
      "    getswitchinterval()\n",
      "        Return the current thread switch interval; see sys.setswitchinterval().\n",
      "    \n",
      "    gettrace()\n",
      "        Return the global debug tracing function set with sys.settrace.\n",
      "        \n",
      "        See the debugger chapter in the library manual.\n",
      "    \n",
      "    getwindowsversion()\n",
      "        Return info about the running version of Windows as a named tuple.\n",
      "        \n",
      "        The members are named: major, minor, build, platform, service_pack,\n",
      "        service_pack_major, service_pack_minor, suite_mask, product_type and\n",
      "        platform_version. For backward compatibility, only the first 5 items\n",
      "        are available by indexing. All elements are numbers, except\n",
      "        service_pack and platform_type which are strings, and platform_version\n",
      "        which is a 3-tuple. Platform is always 2. Product_type may be 1 for a\n",
      "        workstation, 2 for a domain controller, 3 for a server.\n",
      "        Platform_version is a 3-tuple containing a version number that is\n",
      "        intended for identifying the OS rather than feature detection.\n",
      "    \n",
      "    intern(string, /)\n",
      "        ``Intern'' the given string.\n",
      "        \n",
      "        This enters the string in the (global) table of interned strings whose\n",
      "        purpose is to speed up dictionary lookups. Return the string itself or\n",
      "        the previously interned string object with the same value.\n",
      "    \n",
      "    is_finalizing()\n",
      "        Return True if Python is exiting.\n",
      "    \n",
      "    set_asyncgen_hooks(...)\n",
      "        set_asyncgen_hooks(* [, firstiter] [, finalizer])\n",
      "        \n",
      "        Set a finalizer for async generators objects.\n",
      "    \n",
      "    set_coroutine_origin_tracking_depth(depth)\n",
      "        Enable or disable origin tracking for coroutine objects in this thread.\n",
      "        \n",
      "        Coroutine objects will track 'depth' frames of traceback information\n",
      "        about where they came from, available in their cr_origin attribute.\n",
      "        \n",
      "        Set a depth of 0 to disable.\n",
      "    \n",
      "    setprofile(...)\n",
      "        setprofile(function)\n",
      "        \n",
      "        Set the profiling function.  It will be called on each function call\n",
      "        and return.  See the profiler chapter in the library manual.\n",
      "    \n",
      "    setrecursionlimit(limit, /)\n",
      "        Set the maximum depth of the Python interpreter stack to n.\n",
      "        \n",
      "        This limit prevents infinite recursion from causing an overflow of the C\n",
      "        stack and crashing Python.  The highest possible limit is platform-\n",
      "        dependent.\n",
      "    \n",
      "    setswitchinterval(interval, /)\n",
      "        Set the ideal thread switching delay inside the Python interpreter.\n",
      "        \n",
      "        The actual frequency of switching threads can be lower if the\n",
      "        interpreter executes long sequences of uninterruptible code\n",
      "        (this is implementation-specific and workload-dependent).\n",
      "        \n",
      "        The parameter must represent the desired switching delay in seconds\n",
      "        A typical value is 0.005 (5 milliseconds).\n",
      "    \n",
      "    settrace(...)\n",
      "        settrace(function)\n",
      "        \n",
      "        Set the global debug tracing function.  It will be called on each\n",
      "        function call.  See the debugger chapter in the library manual.\n",
      "    \n",
      "    unraisablehook(unraisable, /)\n",
      "        Handle an unraisable exception.\n",
      "        \n",
      "        The unraisable argument has the following attributes:\n",
      "        \n",
      "        * exc_type: Exception type.\n",
      "        * exc_value: Exception value, can be None.\n",
      "        * exc_traceback: Exception traceback, can be None.\n",
      "        * err_msg: Error message, can be None.\n",
      "        * object: Object causing the exception, can be None.\n",
      "\n",
      "DATA\n",
      "    __stderr__ = <_io.TextIOWrapper name='<stderr>' mode='w' encoding='utf...\n",
      "    __stdin__ = <_io.TextIOWrapper name='<stdin>' mode='r' encoding='utf-8...\n",
      "    __stdout__ = <_io.TextIOWrapper name='<stdout>' mode='w' encoding='utf...\n",
      "    api_version = 1013\n",
      "    argv = [r'C:\\Users\\91973\\AppData\\Roaming\\Python\\Python39\\site-packages...\n",
      "    base_exec_prefix = r'c:\\Users\\91973\\AppData\\Local\\Programs\\Python\\Pyth...\n",
      "    base_prefix = r'c:\\Users\\91973\\AppData\\Local\\Programs\\Python\\Python39'\n",
      "    builtin_module_names = ('_abc', '_ast', '_bisect', '_blake2', '_codecs...\n",
      "    byteorder = 'little'\n",
      "    copyright = 'Copyright (c) 2001-2020 Python Software Foundati...ematis...\n",
      "    displayhook = <ipykernel.displayhook.ZMQShellDisplayHook object>\n",
      "    dllhandle = 140726789275648\n",
      "    dont_write_bytecode = False\n",
      "    exec_prefix = r'c:\\Users\\91973\\AppData\\Local\\Programs\\Python\\Python39'\n",
      "    executable = r'c:\\Users\\91973\\AppData\\Local\\Programs\\Python\\Python39\\p...\n",
      "    flags = sys.flags(debug=0, inspect=0, interactive=0, opt...ation=1, is...\n",
      "    float_info = sys.float_info(max=1.7976931348623157e+308, max_...epsilo...\n",
      "    float_repr_style = 'short'\n",
      "    hash_info = sys.hash_info(width=64, modulus=2305843009213693...iphash2...\n",
      "    hexversion = 50921712\n",
      "    implementation = namespace(name='cpython', cache_tag='cpython-39'...as...\n",
      "    int_info = sys.int_info(bits_per_digit=30, sizeof_digit=4)\n",
      "    maxsize = 9223372036854775807\n",
      "    maxunicode = 1114111\n",
      "    meta_path = [<class '_frozen_importlib.BuiltinImporter'>, <class '_fro...\n",
      "    modules = {'IPython': <module 'IPython' from 'C:\\\\Users\\\\91973\\\\AppDat...\n",
      "    path = [r'd:\\Study\\Python\\Python_Training', r'c:\\Users\\91973\\AppData\\L...\n",
      "    path_hooks = [<class 'zipimport.zipimporter'>, <function FileFinder.pa...\n",
      "    path_importer_cache = {r'C:\\Users\\91973\\AppData\\Roaming\\Python\\Python3...\n",
      "    platform = 'win32'\n",
      "    platlibdir = 'lib'\n",
      "    prefix = r'c:\\Users\\91973\\AppData\\Local\\Programs\\Python\\Python39'\n",
      "    ps1 = 'In : '\n",
      "    ps2 = '...: '\n",
      "    ps3 = 'Out: '\n",
      "    pycache_prefix = None\n",
      "    stderr = <ipykernel.iostream.OutStream object>\n",
      "    stdin = <_io.TextIOWrapper name='<stdin>' mode='r' encoding='utf-8'>\n",
      "    stdout = <ipykernel.iostream.OutStream object>\n",
      "    thread_info = sys.thread_info(name='nt', lock=None, version=None)\n",
      "    version = '3.9.0 (tags/v3.9.0:9cf6752, Oct  5 2020, 15:34:40) [MSC v.1...\n",
      "    version_info = sys.version_info(major=3, minor=9, micro=0, releaseleve...\n",
      "    warnoptions = []\n",
      "    winver = '3.9'\n",
      "\n",
      "FILE\n",
      "    (built-in)\n",
      "\n",
      "\n"
     ]
    }
   ],
   "source": [
    "help(sys)"
   ]
  },
  {
   "cell_type": "code",
   "execution_count": 15,
   "metadata": {},
   "outputs": [
    {
     "data": {
      "text/plain": [
       "'win32'"
      ]
     },
     "execution_count": 15,
     "metadata": {},
     "output_type": "execute_result"
    }
   ],
   "source": [
    "sys.platform"
   ]
  },
  {
   "cell_type": "code",
   "execution_count": 16,
   "metadata": {},
   "outputs": [
    {
     "data": {
      "text/plain": [
       "'c:\\\\Users\\\\91973\\\\AppData\\\\Local\\\\Programs\\\\Python\\\\Python39\\\\python.exe'"
      ]
     },
     "execution_count": 16,
     "metadata": {},
     "output_type": "execute_result"
    }
   ],
   "source": [
    "sys.executable"
   ]
  },
  {
   "cell_type": "code",
   "execution_count": 17,
   "metadata": {},
   "outputs": [
    {
     "data": {
      "text/plain": [
       "['d:\\\\Study\\\\Python\\\\Python_Training',\n",
       " 'c:\\\\Users\\\\91973\\\\AppData\\\\Local\\\\Programs\\\\Python\\\\Python39\\\\python39.zip',\n",
       " 'c:\\\\Users\\\\91973\\\\AppData\\\\Local\\\\Programs\\\\Python\\\\Python39\\\\DLLs',\n",
       " 'c:\\\\Users\\\\91973\\\\AppData\\\\Local\\\\Programs\\\\Python\\\\Python39\\\\lib',\n",
       " 'c:\\\\Users\\\\91973\\\\AppData\\\\Local\\\\Programs\\\\Python\\\\Python39',\n",
       " '',\n",
       " 'C:\\\\Users\\\\91973\\\\AppData\\\\Roaming\\\\Python\\\\Python39\\\\site-packages',\n",
       " 'c:\\\\Users\\\\91973\\\\AppData\\\\Local\\\\Programs\\\\Python\\\\Python39\\\\lib\\\\site-packages',\n",
       " 'c:\\\\Users\\\\91973\\\\AppData\\\\Local\\\\Programs\\\\Python\\\\Python39\\\\lib\\\\site-packages\\\\win32',\n",
       " 'c:\\\\Users\\\\91973\\\\AppData\\\\Local\\\\Programs\\\\Python\\\\Python39\\\\lib\\\\site-packages\\\\win32\\\\lib',\n",
       " 'c:\\\\Users\\\\91973\\\\AppData\\\\Local\\\\Programs\\\\Python\\\\Python39\\\\lib\\\\site-packages\\\\Pythonwin']"
      ]
     },
     "execution_count": 17,
     "metadata": {},
     "output_type": "execute_result"
    }
   ],
   "source": [
    "sys.path"
   ]
  },
  {
   "cell_type": "code",
   "execution_count": 18,
   "metadata": {},
   "outputs": [
    {
     "data": {
      "text/plain": [
       "'little'"
      ]
     },
     "execution_count": 18,
     "metadata": {},
     "output_type": "execute_result"
    }
   ],
   "source": [
    "sys.byteorder"
   ]
  },
  {
   "cell_type": "code",
   "execution_count": null,
   "metadata": {},
   "outputs": [],
   "source": []
  },
  {
   "cell_type": "code",
   "execution_count": 19,
   "metadata": {},
   "outputs": [
    {
     "data": {
      "text/plain": [
       "['C:\\\\Users\\\\91973\\\\AppData\\\\Roaming\\\\Python\\\\Python39\\\\site-packages\\\\ipykernel_launcher.py',\n",
       " '--f=c:\\\\Users\\\\91973\\\\AppData\\\\Roaming\\\\jupyter\\\\runtime\\\\kernel-v2-21676JNLBKjMAFynh.json']"
      ]
     },
     "execution_count": 19,
     "metadata": {},
     "output_type": "execute_result"
    }
   ],
   "source": [
    "sys.argv"
   ]
  },
  {
   "cell_type": "markdown",
   "metadata": {},
   "source": [
    "Commandline parameter"
   ]
  },
  {
   "cell_type": "code",
   "execution_count": 20,
   "metadata": {},
   "outputs": [],
   "source": [
    "import os"
   ]
  },
  {
   "cell_type": "code",
   "execution_count": 21,
   "metadata": {},
   "outputs": [
    {
     "data": {
      "text/plain": [
       "['DirEntry',\n",
       " 'F_OK',\n",
       " 'GenericAlias',\n",
       " 'Mapping',\n",
       " 'MutableMapping',\n",
       " 'O_APPEND',\n",
       " 'O_BINARY',\n",
       " 'O_CREAT',\n",
       " 'O_EXCL',\n",
       " 'O_NOINHERIT',\n",
       " 'O_RANDOM',\n",
       " 'O_RDONLY',\n",
       " 'O_RDWR',\n",
       " 'O_SEQUENTIAL',\n",
       " 'O_SHORT_LIVED',\n",
       " 'O_TEMPORARY',\n",
       " 'O_TEXT',\n",
       " 'O_TRUNC',\n",
       " 'O_WRONLY',\n",
       " 'P_DETACH',\n",
       " 'P_NOWAIT',\n",
       " 'P_NOWAITO',\n",
       " 'P_OVERLAY',\n",
       " 'P_WAIT',\n",
       " 'PathLike',\n",
       " 'R_OK',\n",
       " 'SEEK_CUR',\n",
       " 'SEEK_END',\n",
       " 'SEEK_SET',\n",
       " 'TMP_MAX',\n",
       " 'W_OK',\n",
       " 'X_OK',\n",
       " '_AddedDllDirectory',\n",
       " '_Environ',\n",
       " '__all__',\n",
       " '__builtins__',\n",
       " '__cached__',\n",
       " '__doc__',\n",
       " '__file__',\n",
       " '__loader__',\n",
       " '__name__',\n",
       " '__package__',\n",
       " '__spec__',\n",
       " '_check_methods',\n",
       " '_execvpe',\n",
       " '_exists',\n",
       " '_exit',\n",
       " '_fspath',\n",
       " '_get_exports_list',\n",
       " '_walk',\n",
       " '_wrap_close',\n",
       " 'abc',\n",
       " 'abort',\n",
       " 'access',\n",
       " 'add_dll_directory',\n",
       " 'altsep',\n",
       " 'chdir',\n",
       " 'chmod',\n",
       " 'close',\n",
       " 'closerange',\n",
       " 'cpu_count',\n",
       " 'curdir',\n",
       " 'defpath',\n",
       " 'device_encoding',\n",
       " 'devnull',\n",
       " 'dup',\n",
       " 'dup2',\n",
       " 'environ',\n",
       " 'error',\n",
       " 'execl',\n",
       " 'execle',\n",
       " 'execlp',\n",
       " 'execlpe',\n",
       " 'execv',\n",
       " 'execve',\n",
       " 'execvp',\n",
       " 'execvpe',\n",
       " 'extsep',\n",
       " 'fdopen',\n",
       " 'fsdecode',\n",
       " 'fsencode',\n",
       " 'fspath',\n",
       " 'fstat',\n",
       " 'fsync',\n",
       " 'ftruncate',\n",
       " 'get_exec_path',\n",
       " 'get_handle_inheritable',\n",
       " 'get_inheritable',\n",
       " 'get_terminal_size',\n",
       " 'getcwd',\n",
       " 'getcwdb',\n",
       " 'getenv',\n",
       " 'getlogin',\n",
       " 'getpid',\n",
       " 'getppid',\n",
       " 'isatty',\n",
       " 'kill',\n",
       " 'linesep',\n",
       " 'link',\n",
       " 'listdir',\n",
       " 'lseek',\n",
       " 'lstat',\n",
       " 'makedirs',\n",
       " 'mkdir',\n",
       " 'name',\n",
       " 'open',\n",
       " 'pardir',\n",
       " 'path',\n",
       " 'pathsep',\n",
       " 'pipe',\n",
       " 'popen',\n",
       " 'putenv',\n",
       " 'read',\n",
       " 'readlink',\n",
       " 'remove',\n",
       " 'removedirs',\n",
       " 'rename',\n",
       " 'renames',\n",
       " 'replace',\n",
       " 'rmdir',\n",
       " 'scandir',\n",
       " 'sep',\n",
       " 'set_handle_inheritable',\n",
       " 'set_inheritable',\n",
       " 'spawnl',\n",
       " 'spawnle',\n",
       " 'spawnv',\n",
       " 'spawnve',\n",
       " 'st',\n",
       " 'startfile',\n",
       " 'stat',\n",
       " 'stat_result',\n",
       " 'statvfs_result',\n",
       " 'strerror',\n",
       " 'supports_bytes_environ',\n",
       " 'supports_dir_fd',\n",
       " 'supports_effective_ids',\n",
       " 'supports_fd',\n",
       " 'supports_follow_symlinks',\n",
       " 'symlink',\n",
       " 'sys',\n",
       " 'system',\n",
       " 'terminal_size',\n",
       " 'times',\n",
       " 'times_result',\n",
       " 'truncate',\n",
       " 'umask',\n",
       " 'uname_result',\n",
       " 'unlink',\n",
       " 'unsetenv',\n",
       " 'urandom',\n",
       " 'utime',\n",
       " 'waitpid',\n",
       " 'waitstatus_to_exitcode',\n",
       " 'walk',\n",
       " 'write']"
      ]
     },
     "execution_count": 21,
     "metadata": {},
     "output_type": "execute_result"
    }
   ],
   "source": [
    "dir(os)"
   ]
  },
  {
   "cell_type": "code",
   "execution_count": 22,
   "metadata": {},
   "outputs": [
    {
     "data": {
      "text/plain": [
       "'d:\\\\Study\\\\Python\\\\Python_Training'"
      ]
     },
     "execution_count": 22,
     "metadata": {},
     "output_type": "execute_result"
    }
   ],
   "source": [
    "# help(os)\n",
    "os.getcwd()# pwd in linux"
   ]
  },
  {
   "cell_type": "code",
   "execution_count": 23,
   "metadata": {},
   "outputs": [
    {
     "data": {
      "text/plain": [
       "['.git',\n",
       " '.idea',\n",
       " '.ipynb_checkpoints',\n",
       " '01_basicDataType.py',\n",
       " '01_Basic_Data_type.ipynb',\n",
       " '01_C_Compilation.png',\n",
       " '01_DataType.png',\n",
       " '01_Division.gif',\n",
       " '01_Introduction.ipynb',\n",
       " '01_JavaCompilation.png',\n",
       " '02_String.ipynb',\n",
       " '03_List.ipynb',\n",
       " '03_UserInput.ipynb',\n",
       " '04_Conditions.ipynb',\n",
       " '04_Time.png',\n",
       " '05_Forloop.png',\n",
       " '05_Loops.ipynb',\n",
       " '05_MiniProject.ipynb',\n",
       " '05_set_union_b.png',\n",
       " '05_WhilerLoop.jpg',\n",
       " '07_Tuple.ipynb',\n",
       " '08_Sets.ipynb',\n",
       " '08_Sets.jpg',\n",
       " '08_Sets1.jpg',\n",
       " '09_Dictionary.ipynb',\n",
       " '10_FileHandling.ipynb',\n",
       " '11_Functions.ipynb',\n",
       " '11_localsglobals.ipynb',\n",
       " '12_02_Rectangle.png',\n",
       " '12_03_Employee.png',\n",
       " '12_04_datatype.png',\n",
       " '12_Class.ipynb',\n",
       " '12__01_OOP_Circle_.png',\n",
       " '13_Inhrtitance.ipynb',\n",
       " '14_Abstraction.ipynb',\n",
       " '15_ClassStaticMethod.ipynb',\n",
       " '17_Operator and Function overloading.ipynb',\n",
       " '18_Exception.ipynb',\n",
       " '19_CommandlineArg.py',\n",
       " '19_Module.ipynb',\n",
       " '20_DocTest.ipynb',\n",
       " '21_Numpy_Introduction.ipynb',\n",
       " '22_API_ILO_country_YU.csv',\n",
       " '22_edu.html',\n",
       " '22_Panda_intro.ipynb',\n",
       " '29_DatabaseConnect.py',\n",
       " '2ord7hqoz0g.zip',\n",
       " '775_m8_gui_app_v1.0.ipynb',\n",
       " '775_m8_in_class_codes_v1.0.ipynb',\n",
       " '8v4mqr1qvbj.rar',\n",
       " 'advance2',\n",
       " 'Best Secure Ptactice.ipynb',\n",
       " 'capgemini.ipynb',\n",
       " 'country_data.xml',\n",
       " 'Data Science',\n",
       " 'data.json',\n",
       " 'data.yaml',\n",
       " 'Database.ipynb',\n",
       " 'data_file.json',\n",
       " 'Day1_assignment.txt',\n",
       " 'Day2_assignment.txt',\n",
       " 'default-soapui-workspace.xml',\n",
       " 'developer.json',\n",
       " 'developerPrettyPrint.json',\n",
       " 'DSA',\n",
       " 'employee_file.csv',\n",
       " 'employee_file123.csv',\n",
       " 'employee_file12334.csv',\n",
       " 'employee_file123e34.csv',\n",
       " 'employee_file1test.csv',\n",
       " 'employee_file2.csv',\n",
       " 'employee_file456.csv',\n",
       " 'employee_file4561.csv',\n",
       " 'employee_file4666.csv',\n",
       " 'Enum.ipynb',\n",
       " 'example1',\n",
       " 'example2',\n",
       " 'example3a',\n",
       " 'example3b',\n",
       " 'Graph-Matplotlib-tutorial.jpg',\n",
       " 'How does Python import Modules.ipynb',\n",
       " 'hrdata_modified.csv',\n",
       " 'ic-class-explosion.a3d42b8c9b91.jpg',\n",
       " 'ic-initial-employee-inheritance.jpg',\n",
       " 'intersection-in-python.jpg',\n",
       " 'Interview.ipynb',\n",
       " 'items.yaml',\n",
       " 'Json.jpg',\n",
       " 'Json1.jpg',\n",
       " 'jsontut.ipynb',\n",
       " 'MatplotGraph1-Python-Matplotlib-Edureka-768x644.png',\n",
       " 'Matplotlibs_tutorial.ipynb',\n",
       " 'mod.py',\n",
       " 'mod1.py',\n",
       " 'Module.py.ipynb',\n",
       " 'Module1.py',\n",
       " 'movies.xml',\n",
       " 'MultiDimensionalArray.jpeg',\n",
       " 'MultipleInheritance.jpg',\n",
       " 'multiplication.png',\n",
       " 'myenv',\n",
       " 'Networking.ipynb',\n",
       " 'New Text Document.txt',\n",
       " 'output.txt',\n",
       " 'output.xml',\n",
       " 'output1.txt',\n",
       " 'output12.txt',\n",
       " 'output_DATA_NEWS_23.csv',\n",
       " 'output_file.txt',\n",
       " 'package.ipynb',\n",
       " 'panda.ipynb',\n",
       " 'pdbExample.py',\n",
       " 'PDB_Debugger.ipynb',\n",
       " 'PDF_Python_Tricks_A_Buffet_Of_Awesome_Py.pdf',\n",
       " 'plusoperator.png',\n",
       " 'QASession.ipynb',\n",
       " 'Quindle.ipynb',\n",
       " 'quiz_capgemini.ipynb',\n",
       " 'Reference.jpg',\n",
       " 'Reference1.png',\n",
       " 'Reference2.jpg',\n",
       " 'rosen.png',\n",
       " 'sample.xml',\n",
       " 'sample_inspect.py',\n",
       " 'Scipy_Intro.ipynb',\n",
       " 'Selenium',\n",
       " 'SeleniumPythonTestSummary_preeti.html',\n",
       " 'Session 1.1 - Python-Installation and Basics.ipynb',\n",
       " 'Session 1.2 - String and list Objects.ipynb',\n",
       " 'Session2.1_Containers and Functions.ipynb',\n",
       " 'session2.2_Object Oriented Programming and File IO.ipynb',\n",
       " 'session3.1_Module Exceptions and Database programming_final.ipynb',\n",
       " 'sitephoto.jpg',\n",
       " 'soapui-settings.xml',\n",
       " 'SysAdmin.ipynb',\n",
       " 'test.db',\n",
       " 'test.log',\n",
       " 'test212',\n",
       " 'Time_Space_Complexity.ipynb',\n",
       " 'Tkinter.ipynb',\n",
       " 'Unit Test',\n",
       " 'Untitled9.ipynb',\n",
       " 'users.yaml',\n",
       " 'util.py',\n",
       " 'What is a Module.ipynb',\n",
       " 'world-bank-youth-unemployment.zip',\n",
       " 'XML.ipynb',\n",
       " 'ymlhandling.ipynb',\n",
       " '__pycache__']"
      ]
     },
     "execution_count": 23,
     "metadata": {},
     "output_type": "execute_result"
    }
   ],
   "source": [
    "os.listdir() # dir in windows or ls in linux"
   ]
  },
  {
   "cell_type": "code",
   "execution_count": null,
   "metadata": {},
   "outputs": [],
   "source": [
    "os.mkdir('C:\\\\Users\\\\91973\\\\Python_Training\\\\test212')"
   ]
  },
  {
   "cell_type": "code",
   "execution_count": null,
   "metadata": {},
   "outputs": [],
   "source": [
    "os.getcwd()\n",
    "fopen(\"'C:\\\\Users\\\\91973\\\\desktop\\\\text.txt  \")\n",
    "os.chdir('C:\\\\Users\\\\91973\\\\Python_Training\\\\test212')# cd \n",
    "os.getcwd()"
   ]
  },
  {
   "cell_type": "code",
   "execution_count": null,
   "metadata": {},
   "outputs": [],
   "source": [
    "dir(os)"
   ]
  },
  {
   "cell_type": "code",
   "execution_count": 24,
   "metadata": {},
   "outputs": [
    {
     "data": {
      "text/plain": [
       "26340"
      ]
     },
     "execution_count": 24,
     "metadata": {},
     "output_type": "execute_result"
    }
   ],
   "source": [
    "os.getpid()"
   ]
  },
  {
   "cell_type": "code",
   "execution_count": null,
   "metadata": {},
   "outputs": [],
   "source": [
    "# os.chdir('C:\\\\Users\\\\assharma\\\\')\n",
    "os.rename('C:\\\\Users\\\\assharma\\\\test212','C:\\\\Users\\\\assharma\\\\test19331111')# mv newname filename"
   ]
  },
  {
   "cell_type": "code",
   "execution_count": null,
   "metadata": {},
   "outputs": [],
   "source": [
    "os.rmdir('C:\\\\Users\\\\assharma\\\\test19331111')# os.chmod('C:\\\\Users\\\\assharma\\\\test12',777)"
   ]
  },
  {
   "cell_type": "code",
   "execution_count": null,
   "metadata": {},
   "outputs": [],
   "source": [
    "os.chmod('C:\\\\Users\\\\assharma\\\\test',777)  #7 -- read write and exeucte"
   ]
  },
  {
   "cell_type": "code",
   "execution_count": null,
   "metadata": {},
   "outputs": [],
   "source": [
    "# os.system(\"shutdown /s /t 1\")\n",
    "# os.system(\"shutdown /r /t 1\")"
   ]
  },
  {
   "cell_type": "code",
   "execution_count": 25,
   "metadata": {},
   "outputs": [
    {
     "ename": "FileNotFoundError",
     "evalue": "[WinError 2] The system cannot find the file specified",
     "output_type": "error",
     "traceback": [
      "\u001b[1;31m---------------------------------------------------------------------------\u001b[0m",
      "\u001b[1;31mFileNotFoundError\u001b[0m                         Traceback (most recent call last)",
      "Cell \u001b[1;32mIn[25], line 3\u001b[0m\n\u001b[0;32m      1\u001b[0m \u001b[38;5;28;01mimport\u001b[39;00m \u001b[38;5;21;01msubprocess\u001b[39;00m\n\u001b[0;32m      2\u001b[0m \u001b[38;5;28;01mimport\u001b[39;00m \u001b[38;5;21;01mos\u001b[39;00m\n\u001b[1;32m----> 3\u001b[0m result \u001b[38;5;241m=\u001b[39m \u001b[43msubprocess\u001b[49m\u001b[38;5;241;43m.\u001b[39;49m\u001b[43mrun\u001b[49m\u001b[43m(\u001b[49m\u001b[43m[\u001b[49m\u001b[38;5;124;43m'\u001b[39;49m\u001b[38;5;124;43mlsof\u001b[39;49m\u001b[38;5;124;43m'\u001b[39;49m\u001b[43m,\u001b[49m\u001b[43m \u001b[49m\u001b[38;5;124;43m'\u001b[39;49m\u001b[38;5;124;43m-n\u001b[39;49m\u001b[38;5;124;43m'\u001b[39;49m\u001b[43m,\u001b[49m\u001b[43m \u001b[49m\u001b[38;5;124;43m\"\u001b[39;49m\u001b[38;5;124;43m-i4TCP:\u001b[39;49m\u001b[38;5;132;43;01m%s\u001b[39;49;00m\u001b[38;5;124;43m\"\u001b[39;49m\u001b[43m \u001b[49m\u001b[38;5;241;43m%\u001b[39;49m\u001b[43m \u001b[49m\u001b[38;5;241;43m80\u001b[39;49m\u001b[43m]\u001b[49m\u001b[43m,\u001b[49m\u001b[43mstdout\u001b[49m\u001b[38;5;241;43m=\u001b[39;49m\u001b[43msubprocess\u001b[49m\u001b[38;5;241;43m.\u001b[39;49m\u001b[43mPIPE\u001b[49m\u001b[43m,\u001b[49m\u001b[43mstderr\u001b[49m\u001b[38;5;241;43m=\u001b[39;49m\u001b[43msubprocess\u001b[49m\u001b[38;5;241;43m.\u001b[39;49m\u001b[43mPIPE\u001b[49m\u001b[43m)\u001b[49m\n\u001b[0;32m      4\u001b[0m \u001b[38;5;66;03m# print(result)\u001b[39;00m\n\u001b[0;32m      5\u001b[0m \u001b[38;5;66;03m# help(subprocess)\u001b[39;00m\n",
      "File \u001b[1;32mc:\\Users\\91973\\AppData\\Local\\Programs\\Python\\Python39\\lib\\subprocess.py:501\u001b[0m, in \u001b[0;36mrun\u001b[1;34m(input, capture_output, timeout, check, *popenargs, **kwargs)\u001b[0m\n\u001b[0;32m    498\u001b[0m     kwargs[\u001b[38;5;124m'\u001b[39m\u001b[38;5;124mstdout\u001b[39m\u001b[38;5;124m'\u001b[39m] \u001b[38;5;241m=\u001b[39m PIPE\n\u001b[0;32m    499\u001b[0m     kwargs[\u001b[38;5;124m'\u001b[39m\u001b[38;5;124mstderr\u001b[39m\u001b[38;5;124m'\u001b[39m] \u001b[38;5;241m=\u001b[39m PIPE\n\u001b[1;32m--> 501\u001b[0m \u001b[38;5;28;01mwith\u001b[39;00m Popen(\u001b[38;5;241m*\u001b[39mpopenargs, \u001b[38;5;241m*\u001b[39m\u001b[38;5;241m*\u001b[39mkwargs) \u001b[38;5;28;01mas\u001b[39;00m process:\n\u001b[0;32m    502\u001b[0m     \u001b[38;5;28;01mtry\u001b[39;00m:\n\u001b[0;32m    503\u001b[0m         stdout, stderr \u001b[38;5;241m=\u001b[39m process\u001b[38;5;241m.\u001b[39mcommunicate(\u001b[38;5;28minput\u001b[39m, timeout\u001b[38;5;241m=\u001b[39mtimeout)\n",
      "File \u001b[1;32mc:\\Users\\91973\\AppData\\Local\\Programs\\Python\\Python39\\lib\\subprocess.py:947\u001b[0m, in \u001b[0;36mPopen.__init__\u001b[1;34m(self, args, bufsize, executable, stdin, stdout, stderr, preexec_fn, close_fds, shell, cwd, env, universal_newlines, startupinfo, creationflags, restore_signals, start_new_session, pass_fds, user, group, extra_groups, encoding, errors, text, umask)\u001b[0m\n\u001b[0;32m    943\u001b[0m         \u001b[38;5;28;01mif\u001b[39;00m \u001b[38;5;28mself\u001b[39m\u001b[38;5;241m.\u001b[39mtext_mode:\n\u001b[0;32m    944\u001b[0m             \u001b[38;5;28mself\u001b[39m\u001b[38;5;241m.\u001b[39mstderr \u001b[38;5;241m=\u001b[39m io\u001b[38;5;241m.\u001b[39mTextIOWrapper(\u001b[38;5;28mself\u001b[39m\u001b[38;5;241m.\u001b[39mstderr,\n\u001b[0;32m    945\u001b[0m                     encoding\u001b[38;5;241m=\u001b[39mencoding, errors\u001b[38;5;241m=\u001b[39merrors)\n\u001b[1;32m--> 947\u001b[0m     \u001b[38;5;28;43mself\u001b[39;49m\u001b[38;5;241;43m.\u001b[39;49m\u001b[43m_execute_child\u001b[49m\u001b[43m(\u001b[49m\u001b[43margs\u001b[49m\u001b[43m,\u001b[49m\u001b[43m \u001b[49m\u001b[43mexecutable\u001b[49m\u001b[43m,\u001b[49m\u001b[43m \u001b[49m\u001b[43mpreexec_fn\u001b[49m\u001b[43m,\u001b[49m\u001b[43m \u001b[49m\u001b[43mclose_fds\u001b[49m\u001b[43m,\u001b[49m\n\u001b[0;32m    948\u001b[0m \u001b[43m                        \u001b[49m\u001b[43mpass_fds\u001b[49m\u001b[43m,\u001b[49m\u001b[43m \u001b[49m\u001b[43mcwd\u001b[49m\u001b[43m,\u001b[49m\u001b[43m \u001b[49m\u001b[43menv\u001b[49m\u001b[43m,\u001b[49m\n\u001b[0;32m    949\u001b[0m \u001b[43m                        \u001b[49m\u001b[43mstartupinfo\u001b[49m\u001b[43m,\u001b[49m\u001b[43m \u001b[49m\u001b[43mcreationflags\u001b[49m\u001b[43m,\u001b[49m\u001b[43m \u001b[49m\u001b[43mshell\u001b[49m\u001b[43m,\u001b[49m\n\u001b[0;32m    950\u001b[0m \u001b[43m                        \u001b[49m\u001b[43mp2cread\u001b[49m\u001b[43m,\u001b[49m\u001b[43m \u001b[49m\u001b[43mp2cwrite\u001b[49m\u001b[43m,\u001b[49m\n\u001b[0;32m    951\u001b[0m \u001b[43m                        \u001b[49m\u001b[43mc2pread\u001b[49m\u001b[43m,\u001b[49m\u001b[43m \u001b[49m\u001b[43mc2pwrite\u001b[49m\u001b[43m,\u001b[49m\n\u001b[0;32m    952\u001b[0m \u001b[43m                        \u001b[49m\u001b[43merrread\u001b[49m\u001b[43m,\u001b[49m\u001b[43m \u001b[49m\u001b[43merrwrite\u001b[49m\u001b[43m,\u001b[49m\n\u001b[0;32m    953\u001b[0m \u001b[43m                        \u001b[49m\u001b[43mrestore_signals\u001b[49m\u001b[43m,\u001b[49m\n\u001b[0;32m    954\u001b[0m \u001b[43m                        \u001b[49m\u001b[43mgid\u001b[49m\u001b[43m,\u001b[49m\u001b[43m \u001b[49m\u001b[43mgids\u001b[49m\u001b[43m,\u001b[49m\u001b[43m \u001b[49m\u001b[43muid\u001b[49m\u001b[43m,\u001b[49m\u001b[43m \u001b[49m\u001b[43mumask\u001b[49m\u001b[43m,\u001b[49m\n\u001b[0;32m    955\u001b[0m \u001b[43m                        \u001b[49m\u001b[43mstart_new_session\u001b[49m\u001b[43m)\u001b[49m\n\u001b[0;32m    956\u001b[0m \u001b[38;5;28;01mexcept\u001b[39;00m:\n\u001b[0;32m    957\u001b[0m     \u001b[38;5;66;03m# Cleanup if the child failed starting.\u001b[39;00m\n\u001b[0;32m    958\u001b[0m     \u001b[38;5;28;01mfor\u001b[39;00m f \u001b[38;5;129;01min\u001b[39;00m \u001b[38;5;28mfilter\u001b[39m(\u001b[38;5;28;01mNone\u001b[39;00m, (\u001b[38;5;28mself\u001b[39m\u001b[38;5;241m.\u001b[39mstdin, \u001b[38;5;28mself\u001b[39m\u001b[38;5;241m.\u001b[39mstdout, \u001b[38;5;28mself\u001b[39m\u001b[38;5;241m.\u001b[39mstderr)):\n",
      "File \u001b[1;32mc:\\Users\\91973\\AppData\\Local\\Programs\\Python\\Python39\\lib\\subprocess.py:1416\u001b[0m, in \u001b[0;36mPopen._execute_child\u001b[1;34m(self, args, executable, preexec_fn, close_fds, pass_fds, cwd, env, startupinfo, creationflags, shell, p2cread, p2cwrite, c2pread, c2pwrite, errread, errwrite, unused_restore_signals, unused_gid, unused_gids, unused_uid, unused_umask, unused_start_new_session)\u001b[0m\n\u001b[0;32m   1414\u001b[0m \u001b[38;5;66;03m# Start the process\u001b[39;00m\n\u001b[0;32m   1415\u001b[0m \u001b[38;5;28;01mtry\u001b[39;00m:\n\u001b[1;32m-> 1416\u001b[0m     hp, ht, pid, tid \u001b[38;5;241m=\u001b[39m \u001b[43m_winapi\u001b[49m\u001b[38;5;241;43m.\u001b[39;49m\u001b[43mCreateProcess\u001b[49m\u001b[43m(\u001b[49m\u001b[43mexecutable\u001b[49m\u001b[43m,\u001b[49m\u001b[43m \u001b[49m\u001b[43margs\u001b[49m\u001b[43m,\u001b[49m\n\u001b[0;32m   1417\u001b[0m \u001b[43m                             \u001b[49m\u001b[38;5;66;43;03m# no special security\u001b[39;49;00m\n\u001b[0;32m   1418\u001b[0m \u001b[43m                             \u001b[49m\u001b[38;5;28;43;01mNone\u001b[39;49;00m\u001b[43m,\u001b[49m\u001b[43m \u001b[49m\u001b[38;5;28;43;01mNone\u001b[39;49;00m\u001b[43m,\u001b[49m\n\u001b[0;32m   1419\u001b[0m \u001b[43m                             \u001b[49m\u001b[38;5;28;43mint\u001b[39;49m\u001b[43m(\u001b[49m\u001b[38;5;129;43;01mnot\u001b[39;49;00m\u001b[43m \u001b[49m\u001b[43mclose_fds\u001b[49m\u001b[43m)\u001b[49m\u001b[43m,\u001b[49m\n\u001b[0;32m   1420\u001b[0m \u001b[43m                             \u001b[49m\u001b[43mcreationflags\u001b[49m\u001b[43m,\u001b[49m\n\u001b[0;32m   1421\u001b[0m \u001b[43m                             \u001b[49m\u001b[43menv\u001b[49m\u001b[43m,\u001b[49m\n\u001b[0;32m   1422\u001b[0m \u001b[43m                             \u001b[49m\u001b[43mcwd\u001b[49m\u001b[43m,\u001b[49m\n\u001b[0;32m   1423\u001b[0m \u001b[43m                             \u001b[49m\u001b[43mstartupinfo\u001b[49m\u001b[43m)\u001b[49m\n\u001b[0;32m   1424\u001b[0m \u001b[38;5;28;01mfinally\u001b[39;00m:\n\u001b[0;32m   1425\u001b[0m     \u001b[38;5;66;03m# Child is launched. Close the parent's copy of those pipe\u001b[39;00m\n\u001b[0;32m   1426\u001b[0m     \u001b[38;5;66;03m# handles that only the child should have open.  You need\u001b[39;00m\n\u001b[1;32m   (...)\u001b[0m\n\u001b[0;32m   1429\u001b[0m     \u001b[38;5;66;03m# pipe will not close when the child process exits and the\u001b[39;00m\n\u001b[0;32m   1430\u001b[0m     \u001b[38;5;66;03m# ReadFile will hang.\u001b[39;00m\n\u001b[0;32m   1431\u001b[0m     \u001b[38;5;28mself\u001b[39m\u001b[38;5;241m.\u001b[39m_close_pipe_fds(p2cread, p2cwrite,\n\u001b[0;32m   1432\u001b[0m                          c2pread, c2pwrite,\n\u001b[0;32m   1433\u001b[0m                          errread, errwrite)\n",
      "\u001b[1;31mFileNotFoundError\u001b[0m: [WinError 2] The system cannot find the file specified"
     ]
    }
   ],
   "source": [
    "import subprocess\n",
    "import os\n",
    "result = subprocess.run(['lsof', '-n', \"-i4TCP:%s\" % 80],stdout=subprocess.PIPE,stderr=subprocess.PIPE)\n",
    "# print(result)\n",
    "# help(subprocess)"
   ]
  },
  {
   "cell_type": "code",
   "execution_count": 26,
   "metadata": {},
   "outputs": [
    {
     "name": "stdout",
     "output_type": "stream",
     "text": [
      "Port: 80 => service name: http\n",
      "Port: 25 => service name: smtp\n",
      "Port: 53 => service name: domain\n"
     ]
    }
   ],
   "source": [
    "import socket \n",
    "# help(socket)\n",
    "# print(socket.__file__)\n",
    "def find_service_name(): \n",
    "    protocolname = 'tcp' \n",
    "    for port in [80, 25]: \n",
    "        print (\"Port: %s => service name: %s\" %(port, socket.getservbyport(port, protocolname))) \n",
    "     \n",
    "    print (\"Port: %s => service name: %s\" %(53, socket.getservbyport(53, 'udp'))) \n",
    "      \n",
    "find_service_name() "
   ]
  },
  {
   "cell_type": "markdown",
   "metadata": {},
   "source": [
    "\n",
    "#### MATH Module"
   ]
  },
  {
   "cell_type": "code",
   "execution_count": 27,
   "metadata": {},
   "outputs": [],
   "source": [
    "import math"
   ]
  },
  {
   "cell_type": "code",
   "execution_count": null,
   "metadata": {},
   "outputs": [],
   "source": [
    "dir(math)"
   ]
  },
  {
   "cell_type": "code",
   "execution_count": 28,
   "metadata": {},
   "outputs": [
    {
     "name": "stdout",
     "output_type": "stream",
     "text": [
      "0.6674572160283838\n"
     ]
    }
   ],
   "source": [
    "print (math.acos(math.pi/4))"
   ]
  },
  {
   "cell_type": "code",
   "execution_count": 29,
   "metadata": {},
   "outputs": [
    {
     "name": "stdout",
     "output_type": "stream",
     "text": [
      "0.9033391107665127\n"
     ]
    }
   ],
   "source": [
    "print (math.asin(math.pi/4))"
   ]
  },
  {
   "cell_type": "code",
   "execution_count": 30,
   "metadata": {},
   "outputs": [
    {
     "name": "stdout",
     "output_type": "stream",
     "text": [
      "10.0\n"
     ]
    }
   ],
   "source": [
    "print (math.log(1024,2))"
   ]
  },
  {
   "cell_type": "code",
   "execution_count": 31,
   "metadata": {},
   "outputs": [
    {
     "name": "stdout",
     "output_type": "stream",
     "text": [
      "23\n"
     ]
    }
   ],
   "source": [
    "print (math.trunc(23.000))"
   ]
  },
  {
   "cell_type": "markdown",
   "metadata": {},
   "source": [
    "#### Random Module"
   ]
  },
  {
   "cell_type": "code",
   "execution_count": 33,
   "metadata": {},
   "outputs": [],
   "source": [
    "import random\n",
    "# dir(random)"
   ]
  },
  {
   "cell_type": "code",
   "execution_count": 37,
   "metadata": {},
   "outputs": [
    {
     "data": {
      "text/plain": [
       "2"
      ]
     },
     "execution_count": 37,
     "metadata": {},
     "output_type": "execute_result"
    }
   ],
   "source": [
    "a= random.choice([1,2,3,5,4,444,4,45,443])\n",
    "a"
   ]
  },
  {
   "cell_type": "code",
   "execution_count": 38,
   "metadata": {},
   "outputs": [
    {
     "data": {
      "text/plain": [
       "0"
      ]
     },
     "execution_count": 38,
     "metadata": {},
     "output_type": "execute_result"
    }
   ],
   "source": [
    "random.randrange(6)"
   ]
  },
  {
   "cell_type": "code",
   "execution_count": null,
   "metadata": {},
   "outputs": [],
   "source": [
    "help(random)"
   ]
  },
  {
   "cell_type": "code",
   "execution_count": null,
   "metadata": {},
   "outputs": [],
   "source": [
    "# random.randint(1.0,2.0)\n",
    "# print(help(random.randint()))\n",
    "help(random)\n",
    "# random.uniform(1, 5)"
   ]
  },
  {
   "cell_type": "code",
   "execution_count": 39,
   "metadata": {},
   "outputs": [
    {
     "data": {
      "text/plain": [
       "[9232264,\n",
       " 6545926,\n",
       " 9919283,\n",
       " 1632384,\n",
       " 4959674,\n",
       " 9828192,\n",
       " 6452225,\n",
       " 3166360,\n",
       " 3543486,\n",
       " 7106995,\n",
       " 7385858,\n",
       " 77088,\n",
       " 7465937,\n",
       " 8872539,\n",
       " 7277989,\n",
       " 409473,\n",
       " 9210398,\n",
       " 1777515,\n",
       " 9734622,\n",
       " 1986786,\n",
       " 4750351,\n",
       " 3819227,\n",
       " 5764311,\n",
       " 3094283,\n",
       " 5161929,\n",
       " 2263323,\n",
       " 8174855,\n",
       " 5825382,\n",
       " 2320632,\n",
       " 8587060,\n",
       " 1738617,\n",
       " 9842340,\n",
       " 8670764,\n",
       " 1426598,\n",
       " 9411475,\n",
       " 532332,\n",
       " 2006195,\n",
       " 5594160,\n",
       " 5478211,\n",
       " 5296502,\n",
       " 1876263,\n",
       " 7729547,\n",
       " 2144390,\n",
       " 6918792,\n",
       " 8905341,\n",
       " 8624177,\n",
       " 1150057,\n",
       " 4849205,\n",
       " 8466586,\n",
       " 4850207,\n",
       " 4841596,\n",
       " 7847742,\n",
       " 3134078,\n",
       " 5160630,\n",
       " 6101655,\n",
       " 3321690,\n",
       " 6442749,\n",
       " 5430206,\n",
       " 2156712,\n",
       " 1617270]"
      ]
     },
     "execution_count": 39,
     "metadata": {},
     "output_type": "execute_result"
    }
   ],
   "source": [
    "random.sample(range(10000000), 60)\n",
    "# Chooses k unique random elements from a population sequence or set."
   ]
  },
  {
   "cell_type": "code",
   "execution_count": 40,
   "metadata": {},
   "outputs": [
    {
     "data": {
      "text/plain": [
       "['_STRUCT_TM_ITEMS',\n",
       " '__doc__',\n",
       " '__loader__',\n",
       " '__name__',\n",
       " '__package__',\n",
       " '__spec__',\n",
       " 'altzone',\n",
       " 'asctime',\n",
       " 'ctime',\n",
       " 'daylight',\n",
       " 'get_clock_info',\n",
       " 'gmtime',\n",
       " 'localtime',\n",
       " 'mktime',\n",
       " 'monotonic',\n",
       " 'monotonic_ns',\n",
       " 'perf_counter',\n",
       " 'perf_counter_ns',\n",
       " 'process_time',\n",
       " 'process_time_ns',\n",
       " 'sleep',\n",
       " 'strftime',\n",
       " 'strptime',\n",
       " 'struct_time',\n",
       " 'thread_time',\n",
       " 'thread_time_ns',\n",
       " 'time',\n",
       " 'time_ns',\n",
       " 'timezone',\n",
       " 'tzname']"
      ]
     },
     "execution_count": 40,
     "metadata": {},
     "output_type": "execute_result"
    }
   ],
   "source": [
    "# random.sample(range(20), 5)\n",
    "import time\n",
    "dir(time)"
   ]
  },
  {
   "cell_type": "code",
   "execution_count": 41,
   "metadata": {},
   "outputs": [],
   "source": [
    "import datetime"
   ]
  },
  {
   "cell_type": "code",
   "execution_count": null,
   "metadata": {},
   "outputs": [],
   "source": [
    "# dir(datetime)\n",
    "print(\"a)"
   ]
  },
  {
   "cell_type": "code",
   "execution_count": null,
   "metadata": {},
   "outputs": [],
   "source": [
    "# help(datetime)\n",
    "# print(tzinfo)\n",
    "dir(datetime)"
   ]
  },
  {
   "cell_type": "code",
   "execution_count": 42,
   "metadata": {},
   "outputs": [
    {
     "name": "stdout",
     "output_type": "stream",
     "text": [
      "before sleep\n",
      "after sleep\n"
     ]
    }
   ],
   "source": [
    "from time import sleep\n",
    "print( \"before sleep\")\n",
    "sleep(10)\n",
    "print(\"after sleep\")"
   ]
  },
  {
   "cell_type": "code",
   "execution_count": null,
   "metadata": {},
   "outputs": [],
   "source": [
    "import mod\n",
    "# print (mod.stringModule)\n",
    "# print(type(mod.a))\n",
    "help(mod)\n",
    "# print(mod.__doc__)\n",
    "# print(\"type of \",type(mod.foo(2)))"
   ]
  },
  {
   "cell_type": "code",
   "execution_count": null,
   "metadata": {},
   "outputs": [],
   "source": [
    "help('modules')"
   ]
  },
  {
   "cell_type": "code",
   "execution_count": null,
   "metadata": {},
   "outputs": [],
   "source": [
    "pip install <modulename>"
   ]
  },
  {
   "cell_type": "code",
   "execution_count": null,
   "metadata": {},
   "outputs": [],
   "source": [
    "help('mailbox')"
   ]
  },
  {
   "cell_type": "code",
   "execution_count": null,
   "metadata": {},
   "outputs": [],
   "source": [
    "import inspect\n",
    "import mod\n",
    "\n",
    "for name, data in inspect.getmembers(mod):\n",
    "    if name.startswith('__'):\n",
    "        continue\n",
    "    print('{} : {!r}'.format(name, data))"
   ]
  },
  {
   "cell_type": "code",
   "execution_count": null,
   "metadata": {},
   "outputs": [],
   "source": [
    "import inspect\n",
    "import mod\n",
    "# print(inspect.getmembers(mod.Foo, inspect.isfunction))\n",
    "print(inspect.getmembers(mod.Foo, inspect.isfunction))\n"
   ]
  },
  {
   "cell_type": "code",
   "execution_count": null,
   "metadata": {},
   "outputs": [],
   "source": [
    "Assignment\n",
    "Do with modules"
   ]
  },
  {
   "cell_type": "code",
   "execution_count": null,
   "metadata": {},
   "outputs": [],
   "source": [
    "\n"
   ]
  },
  {
   "cell_type": "code",
   "execution_count": null,
   "metadata": {},
   "outputs": [],
   "source": [
    "path = \"C:/Users/assharma\"\n",
    "os.rmdir(os.path.join(path, \"My Directory\"))\n"
   ]
  },
  {
   "cell_type": "code",
   "execution_count": null,
   "metadata": {},
   "outputs": [],
   "source": [
    "import os\n",
    "path = \"C:/Users/assharma/GIF\"\n",
    "for file_name in os.listdir(path):\n",
    "    if file_name.lower().endswith(\".gif\"):\n",
    "        full_path = os.path.join(path, file_name)\n",
    "        new_file_name = full_path[:-4] + \"_backup.gif\"\n",
    "        os.rename(full_path, new_file_name)"
   ]
  },
  {
   "cell_type": "code",
   "execution_count": null,
   "metadata": {},
   "outputs": [],
   "source": [
    "import glob\n",
    "glob.glob(\"*.txt\")"
   ]
  },
  {
   "cell_type": "code",
   "execution_count": null,
   "metadata": {},
   "outputs": [],
   "source": [
    "import glob\n",
    "import os\n",
    "path = \"C:/Users/assharma/GIF\"\n",
    "possible_files = os.path.join(path, \"*.gif\")\n",
    "for file_name in glob.glob(possible_files):\n",
    "    full_path = os.path.join(path, file_name)\n",
    "new_file_name = full_path[:-4] + \"_backup.gif\"\n",
    "os.rename(full_path, new_file_name)"
   ]
  },
  {
   "cell_type": "markdown",
   "metadata": {},
   "source": [
    "When you provide a string with the full file path and an * to glob(), it\n",
    "returns a glob list of all possible GIF images in that particular directory"
   ]
  },
  {
   "cell_type": "code",
   "execution_count": null,
   "metadata": {},
   "outputs": [],
   "source": [
    "import glob\n",
    "import os\n",
    "path = \"C:/Users/assharma/GIF\"\n",
    "possible_files = os.path.join(path, \"*/*.png\")\n",
    "for file_name in glob.glob(possible_files):\n",
    "print(file_name)"
   ]
  },
  {
   "cell_type": "markdown",
   "metadata": {},
   "source": [
    "the string \"*/*.png\" to the path tells glob() to search for any\n",
    "files ending in .png that are inside of folders that can have any name\n",
    "(the first *). The forward slash used to separate the last folder tells\n",
    "glob() to only search in subfolders of the images/ directory"
   ]
  },
  {
   "cell_type": "code",
   "execution_count": null,
   "metadata": {},
   "outputs": [],
   "source": [
    "import os\n",
    "path = \"C:/Users/assharma/GIF\"\n",
    "files_and_folders = os.listdir(path)\n",
    "for folder_name in files_and_folders:\n",
    "full_path = os.path.join(path, folder_name)\n",
    "if os.path.isdir(full_path):\n",
    "os.rename(full_path, full_path + \" folder\")"
   ]
  },
  {
   "cell_type": "code",
   "execution_count": null,
   "metadata": {},
   "outputs": [],
   "source": [
    "import os\n",
    "path = \"C:/Users/assharma/GIF\"\n",
    "for current_folder, subfolders, file_names in os.walk(path):\n",
    "    for file_name in file_names:\n",
    "        print(os.path.join(current_folder, file_name))"
   ]
  },
  {
   "cell_type": "markdown",
   "metadata": {},
   "source": [
    "The call to os.walk() creates an object that Python can loop over. At\n",
    "each step of the loop, it returns a different tuple that includes:\n",
    "1. A particular folder\n",
    "2. A list of the subfolders within that folder, and\n",
    "3. A list of files within that folder."
   ]
  },
  {
   "cell_type": "markdown",
   "metadata": {},
   "source": [
    "## Assignment \n",
    "Write all assignments using command line argument"
   ]
  },
  {
   "cell_type": "code",
   "execution_count": null,
   "metadata": {},
   "outputs": [],
   "source": [
    "import Module1"
   ]
  },
  {
   "cell_type": "markdown",
   "metadata": {},
   "source": [
    "# Python Packages\n",
    "Suppose you have developed a very large application that includes many modules. As the number of modules grows, it becomes difficult to keep track of them all if they are dumped into one location. This is particularly so if they have similar names or functionality. You might wish for a means of grouping and organizing them.\n",
    "\n",
    "Packages allow for a hierarchical structuring of the module namespace using dot notation. In the same way that modules help avoid collisions between global variable names, packages help avoid collisions between module names.\n",
    "\n",
    "Creating a package is quite straightforward, since it makes use of the operating system’s inherent hierarchical file structure. Consider the following arrangement:"
   ]
  },
  {
   "cell_type": "code",
   "execution_count": null,
   "metadata": {},
   "outputs": [],
   "source": [
    "from mod import *"
   ]
  },
  {
   "cell_type": "code",
   "execution_count": null,
   "metadata": {},
   "outputs": [],
   "source": [
    "def FindSubstring(string):\n",
    "    rDs = set(string)\n",
    "    print (rDs)\n",
    "    length = len(list(rDs))\n",
    "    return length\n",
    "\n",
    "s = \"abcdeabcbbdeaxcaabcdef\"\n",
    "ret =  FindSubstring(s)\n",
    "print(ret)\n"
   ]
  },
  {
   "cell_type": "code",
   "execution_count": null,
   "metadata": {},
   "outputs": [],
   "source": []
  }
 ],
 "metadata": {
  "kernelspec": {
   "display_name": "Python 3",
   "language": "python",
   "name": "python3"
  },
  "language_info": {
   "codemirror_mode": {
    "name": "ipython",
    "version": 3
   },
   "file_extension": ".py",
   "mimetype": "text/x-python",
   "name": "python",
   "nbconvert_exporter": "python",
   "pygments_lexer": "ipython3",
   "version": "3.9.0"
  }
 },
 "nbformat": 4,
 "nbformat_minor": 2
}
