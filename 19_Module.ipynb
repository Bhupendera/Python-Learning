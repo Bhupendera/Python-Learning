{
 "cells": [
  {
   "cell_type": "markdown",
   "metadata": {},
   "source": [
    "Modular programming refers to the process of breaking a large, unwieldy programming task into separate, smaller, more manageable subtasks or modules. Individual modules can then be cobbled together like building blocks to create a larger application.\n",
    "\n",
    "There are several advantages to modularizing code in a large application:\n",
    "\n",
    "Simplicity: Rather than focusing on the entire problem at hand, a module typically focuses on one relatively small portion of the problem. If you’re working on a single module, you’ll have a smaller problem domain to wrap your head around. This makes development easier and less error-prone.\n",
    "\n",
    "Maintainability: Modules are typically designed so that they enforce logical boundaries between different problem domains. If modules are written in a way that minimizes interdependency, there is decreased likelihood that modifications to a single module will have an impact on other parts of the program. (You may even be able to make changes to a module without having any knowledge of the application outside that module.) This makes it more viable for a team of many programmers to work collaboratively on a large application.\n",
    "\n",
    "Reusability: Functionality defined in a single module can be easily reused (through an appropriately defined interface) by other parts of the application. This eliminates the need to recreate duplicate code.\n",
    "\n",
    "Scoping: Modules typically define a separate namespace, which helps avoid collisions between identifiers in different areas of a program. (One of the tenets in the Zen of Python is Namespaces are one honking great idea—let’s do more of those!)\n",
    "\n",
    "Functions, modules and packages are all constructs in Python that promote code modularization."
   ]
  },
  {
   "cell_type": "markdown",
   "metadata": {},
   "source": [
    "## Python Modules: Overview\n",
    "There are actually three different ways to define a module in Python:\n",
    "\n",
    "A module can be written in Python itself.\n",
    "A module can be written in C and loaded dynamically at run-time, like the re (regular expression) module.\n",
    "A built-in module is intrinsically contained in the interpreter, like the itertools module.\n",
    "A module’s contents are accessed the same way in all three cases: with the import statement.\n",
    "\n",
    "Here, the focus will mostly be on modules that are written in Python. The cool thing about modules written in Python is that they are exceedingly straightforward to build. All you need to do is create a file that contains legitimate Python code and then give the file a name with a .py extension. That’s it! No special syntax or voodoo is necessary.\n",
    "\n",
    "For example, suppose you have created a file called mod.py containing the following:"
   ]
  },
  {
   "cell_type": "code",
   "execution_count": 2,
   "metadata": {},
   "outputs": [
    {
     "name": "stdout",
     "output_type": "stream",
     "text": [
      "If Comrade Napoleon says it, it must be right.\n",
      "[100, 200, 300]\n",
      "arg = ['quux', 'corge', 'grault']\n"
     ]
    },
    {
     "data": {
      "text/plain": [
       "<mod.Foo at 0x20ec9a84970>"
      ]
     },
     "execution_count": 2,
     "metadata": {},
     "output_type": "execute_result"
    }
   ],
   "source": [
    "import mod\n",
    "print(mod.s)\n",
    "print (mod.a)\n",
    "mod.foo(['quux', 'corge', 'grault'])\n",
    "x = mod.Foo()\n",
    "x"
   ]
  },
  {
   "cell_type": "markdown",
   "metadata": {},
   "source": [
    "### The Module Search Path\n",
    "\n",
    "Continuing with the above example, let’s take a look at what happens when Python executes the statement:\n",
    "\n",
    "When the interpreter executes the above import statement, it searches for mod.py in a list of directories assembled from the following sources:\n",
    "\n",
    "* The directory from which the input script was run or the current directory if the interpreter is being run interactively\n",
    "* The list of directories contained in the PYTHONPATH environment variable, if it is set. (The format for PYTHONPATH is OS-dependent but should mimic the PATH environment variable.)\n",
    "* An installation-dependent list of directories configured at the time Python is installed\n",
    "* The resulting search path is accessible in the Python variable sys.path, which is obtained from a module named sys:"
   ]
  },
  {
   "cell_type": "code",
   "execution_count": 3,
   "metadata": {},
   "outputs": [
    {
     "data": {
      "text/plain": [
       "['d:\\\\Study\\\\Python\\\\Python_Training',\n",
       " 'c:\\\\Users\\\\91973\\\\AppData\\\\Local\\\\Programs\\\\Python\\\\Python39\\\\python39.zip',\n",
       " 'c:\\\\Users\\\\91973\\\\AppData\\\\Local\\\\Programs\\\\Python\\\\Python39\\\\DLLs',\n",
       " 'c:\\\\Users\\\\91973\\\\AppData\\\\Local\\\\Programs\\\\Python\\\\Python39\\\\lib',\n",
       " 'c:\\\\Users\\\\91973\\\\AppData\\\\Local\\\\Programs\\\\Python\\\\Python39',\n",
       " '',\n",
       " 'C:\\\\Users\\\\91973\\\\AppData\\\\Roaming\\\\Python\\\\Python39\\\\site-packages',\n",
       " 'c:\\\\Users\\\\91973\\\\AppData\\\\Local\\\\Programs\\\\Python\\\\Python39\\\\lib\\\\site-packages',\n",
       " 'c:\\\\Users\\\\91973\\\\AppData\\\\Local\\\\Programs\\\\Python\\\\Python39\\\\lib\\\\site-packages\\\\win32',\n",
       " 'c:\\\\Users\\\\91973\\\\AppData\\\\Local\\\\Programs\\\\Python\\\\Python39\\\\lib\\\\site-packages\\\\win32\\\\lib',\n",
       " 'c:\\\\Users\\\\91973\\\\AppData\\\\Local\\\\Programs\\\\Python\\\\Python39\\\\lib\\\\site-packages\\\\Pythonwin']"
      ]
     },
     "execution_count": 3,
     "metadata": {},
     "output_type": "execute_result"
    }
   ],
   "source": [
    "import sys\n",
    "sys.path"
   ]
  },
  {
   "cell_type": "markdown",
   "metadata": {},
   "source": [
    "Thus, to ensure your module is found, you need to do one of the following:\n",
    "\n",
    "* Put mod.py in the directory where the input script is located or the current directory, if interactive\n",
    "* Modify the PYTHONPATH environment variable to contain the directory where mod.py is located before starting the interpreter\n",
    "Or: Put mod.py in one of the directories already contained in the PYTHONPATH variable\n",
    "Put mod.py in one of the installation-dependent directories, which you may or may not have write-access to, depending on the OS\n",
    "* There is actually one additional option: you can put the module file in any directory of your choice and then modify sys.path at run-time so that it contains that directory. For example, in this case, you could put mod.py in directory C:\\Users\\john and then issue the following statements:"
   ]
  },
  {
   "cell_type": "code",
   "execution_count": null,
   "metadata": {},
   "outputs": [],
   "source": [
    "a=sys.path.append(r'C:\\Users\\john')\n",
    "sys.path"
   ]
  },
  {
   "cell_type": "code",
   "execution_count": null,
   "metadata": {},
   "outputs": [],
   "source": [
    "import sys\n",
    "a=sys.path\n",
    "print(a)\n",
    "mypath='C:\\Users\\john'\n",
    "if mypath not in a:# sys.path\n",
    "    sys.path.append(mypath)\n",
    "else :\n",
    "    print(\"no need to add the path\"\")"
   ]
  },
  {
   "cell_type": "raw",
   "metadata": {},
   "source": [
    "Once a module has been imported, you can determine the location where it was found with the module’s __file__ attribute:"
   ]
  },
  {
   "cell_type": "code",
   "execution_count": null,
   "metadata": {},
   "outputs": [],
   "source": [
    "import mod\n",
    "mod.__file__\n",
    "# import re\n",
    "# re.__file__\n",
    "# import socket\n",
    "# dir(mod)"
   ]
  },
  {
   "cell_type": "markdown",
   "metadata": {},
   "source": [
    "\n",
    "### The import Statement\n"
   ]
  },
  {
   "cell_type": "markdown",
   "metadata": {},
   "source": [
    "Module contents are made available to the caller with the import statement. The import statement takes many different forms, shown below.\n",
    "\n",
    "import <module_name>\n",
    "The simplest form is the one already shown above:\n",
    "\n"
   ]
  },
  {
   "cell_type": "markdown",
   "metadata": {},
   "source": [
    "Note that this does not make the module contents directly accessible to the caller. \n",
    "Each module has its own private symbol table, which serves as the global symbol table for all objects \n",
    "defined in the module. Thus, a module creates a separate namespace, as already noted.\n",
    "\n",
    "The statement import <module_name> only places <module_name> in the caller’s symbol table.\n",
    "The objects that are defined in the module remain in the module’s private symbol table.\n",
    "\n",
    "From the caller, objects in the module are only accessible when prefixed with <module_name> via dot notation, \n",
    "as illustrated below.\n",
    "\n",
    "After the following import statement, mod is placed into the local symbol table. Thus, \n",
    "mod has meaning in the caller’s local context:\n"
   ]
  },
  {
   "cell_type": "code",
   "execution_count": null,
   "metadata": {},
   "outputs": [],
   "source": [
    "import mod\n",
    "mod"
   ]
  },
  {
   "cell_type": "markdown",
   "metadata": {},
   "source": [
    "But s and foo remain in the module’s private symbol table and are not meaningful in the local context:\n"
   ]
  },
  {
   "cell_type": "markdown",
   "metadata": {},
   "source": [
    "To be accessed in the local context, names of objects defined in the module must be prefixed by mod:\n"
   ]
  },
  {
   "cell_type": "code",
   "execution_count": null,
   "metadata": {},
   "outputs": [],
   "source": [
    "import mod\n",
    "print (mod.s)\n",
    "mod.foo('quux')\n",
    "print(\"hello\")"
   ]
  },
  {
   "cell_type": "raw",
   "metadata": {},
   "source": [
    "Several comma-separated modules may be specified in a single import statement:\n",
    "\n",
    "import <module_name>[, <module_name> ...]\n"
   ]
  },
  {
   "cell_type": "markdown",
   "metadata": {},
   "source": [
    "### from <module_name> import <name(s)>\n"
   ]
  },
  {
   "cell_type": "markdown",
   "metadata": {},
   "source": [
    "An alternate form of the import statement allows individual objects from the module to be\n",
    "imported directly into the caller’s symbol table:\n",
    "\n",
    "from <module_name> import <name(s)>\n",
    "Following execution of the above statement, <name(s)> can be referenced in the\n",
    "caller’s environment without the <module_name> prefix:\n"
   ]
  },
  {
   "cell_type": "code",
   "execution_count": null,
   "metadata": {},
   "outputs": [],
   "source": [
    "from mod import s, foo\n",
    "# import mod\n",
    "print(s)\n",
    "foo('quux')\n",
    "# print(mod.s)\n",
    "# s=\n",
    "# def()\n"
   ]
  },
  {
   "cell_type": "code",
   "execution_count": null,
   "metadata": {},
   "outputs": [],
   "source": [
    "from mod import Foo\n",
    "x = Foo()\n",
    "print(x.get_name())\n",
    "# Because this form of import places the object names \n",
    "# directly into the caller’s symbol table, any objects that \n",
    "# already exist with the same name will be overwritten:\n"
   ]
  },
  {
   "cell_type": "code",
   "execution_count": null,
   "metadata": {},
   "outputs": [],
   "source": [
    "a = ['foo', 'bar', 'baz']\n",
    "print (a)\n",
    "from mod import a\n",
    "print(a)"
   ]
  },
  {
   "cell_type": "raw",
   "metadata": {},
   "source": [
    "It is even possible to indiscriminately import everything from a module at one fell swoop:\n",
    "\n",
    "from <module_name> import *\n",
    "This will place the names of all objects from <module_name> into the local symbol table, with the exception of any that begin with the underscore (_) character.\n",
    "\n",
    "For example:\n"
   ]
  },
  {
   "cell_type": "code",
   "execution_count": null,
   "metadata": {},
   "outputs": [],
   "source": [
    "a"
   ]
  },
  {
   "cell_type": "code",
   "execution_count": null,
   "metadata": {},
   "outputs": [],
   "source": [
    "foo"
   ]
  },
  {
   "cell_type": "code",
   "execution_count": null,
   "metadata": {},
   "outputs": [],
   "source": [
    "Foo"
   ]
  },
  {
   "cell_type": "raw",
   "metadata": {},
   "source": [
    "This isn’t necessarily recommended in large-scale production code. It’s a bit dangerous because you are entering names into the local symbol table en masse. Unless you know them all well and can be confident there won’t be a conflict, you have a decent chance of overwriting an existing name inadvertently. However, this syntax is quite handy when you are just mucking around with the interactive interpreter, for testing or discovery purposes, because it quickly gives you access to everything a module has to offer without a lot of typing.\n",
    "\n",
    "from <module_name> import <name> as <alt_name>\n",
    "It is also possible to import individual objects but enter them into the local symbol table with alternate names:\n",
    "\n",
    "from <module_name> import <name> as <alt_name>[, <name> as <alt_name> …]\n",
    "This makes it possible to place names directly into the local symbol table but avoid conflicts with previously existing names:\n"
   ]
  },
  {
   "cell_type": "code",
   "execution_count": null,
   "metadata": {},
   "outputs": [],
   "source": [
    "from mod import s as astring, a as alist\n",
    "s=\"python\"\n",
    "a=5454\n",
    "print(s)\n",
    "print(astring)\n",
    "print(a)\n",
    "print(alist)"
   ]
  },
  {
   "cell_type": "markdown",
   "metadata": {},
   "source": [
    "import <module_name> as <alt_name>\n",
    "You can also import an entire module under an alternate name:\n"
   ]
  },
  {
   "cell_type": "code",
   "execution_count": null,
   "metadata": {},
   "outputs": [],
   "source": [
    "import mod as my_module\n",
    "import numpy as np\n",
    "import panda as pd\n",
    "import matplotlib as mp\n",
    "print(my_module.a)\n",
    "print(my_module.foo('qux'))\n",
    "import mod \n",
    "print(mod.a)\n",
    "print(mod.foo('qux'))\n",
    "matplotlib.draw()\n",
    "mp.draw()"
   ]
  },
  {
   "cell_type": "markdown",
   "metadata": {},
   "source": [
    "However, Python 3 does not allow the indiscriminate import * syntax from within a function:"
   ]
  },
  {
   "cell_type": "code",
   "execution_count": null,
   "metadata": {},
   "outputs": [],
   "source": [
    "from mod import *\n",
    "print(s)\n",
    "print(a)\n",
    "# foo(\"abcd\")"
   ]
  },
  {
   "cell_type": "code",
   "execution_count": null,
   "metadata": {},
   "outputs": [],
   "source": [
    "def bar():\n",
    "    from mod import *\n",
    "#     from mod import a\n",
    "    print(a)\n",
    "\n",
    "bar()    "
   ]
  },
  {
   "cell_type": "markdown",
   "metadata": {},
   "source": [
    "Lastly, a try statement with an except ImportError clause can be used to guard against unsuccessful import attempts:\n"
   ]
  },
  {
   "cell_type": "code",
   "execution_count": null,
   "metadata": {},
   "outputs": [],
   "source": [
    "try:\n",
    "    # Non-existent module\n",
    "       import mod123\n",
    "except ImportError:\n",
    "    print('Module not found')"
   ]
  },
  {
   "cell_type": "code",
   "execution_count": null,
   "metadata": {},
   "outputs": [],
   "source": [
    "import sys\n",
    "dir(sys)"
   ]
  },
  {
   "cell_type": "markdown",
   "metadata": {},
   "source": [
    "This module provides access to some objects used or maintained by the\n",
    "interpreter and to functions that interact strongly with the interpreter."
   ]
  },
  {
   "cell_type": "code",
   "execution_count": null,
   "metadata": {},
   "outputs": [],
   "source": [
    "import sys\n",
    "print (sys.version)\n",
    "# print(sys.__package__)\n",
    "# This module provides access to some objects used or maintained by the\n",
    "#     interpreter and to functions that interact strongly with the interpreter."
   ]
  },
  {
   "cell_type": "code",
   "execution_count": null,
   "metadata": {},
   "outputs": [],
   "source": [
    "print (sys.version_info)"
   ]
  },
  {
   "cell_type": "code",
   "execution_count": null,
   "metadata": {},
   "outputs": [],
   "source": [
    "help(sys)"
   ]
  },
  {
   "cell_type": "code",
   "execution_count": null,
   "metadata": {},
   "outputs": [],
   "source": [
    "sys.platform"
   ]
  },
  {
   "cell_type": "code",
   "execution_count": null,
   "metadata": {},
   "outputs": [],
   "source": [
    "sys.executable"
   ]
  },
  {
   "cell_type": "code",
   "execution_count": null,
   "metadata": {},
   "outputs": [],
   "source": [
    "sys.path"
   ]
  },
  {
   "cell_type": "code",
   "execution_count": null,
   "metadata": {},
   "outputs": [],
   "source": [
    "sys.byteorder"
   ]
  },
  {
   "cell_type": "code",
   "execution_count": null,
   "metadata": {},
   "outputs": [],
   "source": []
  },
  {
   "cell_type": "code",
   "execution_count": null,
   "metadata": {},
   "outputs": [],
   "source": [
    "sys.argv"
   ]
  },
  {
   "cell_type": "markdown",
   "metadata": {},
   "source": [
    "Commandline parameter"
   ]
  },
  {
   "cell_type": "code",
   "execution_count": null,
   "metadata": {},
   "outputs": [],
   "source": [
    "import os"
   ]
  },
  {
   "cell_type": "code",
   "execution_count": null,
   "metadata": {},
   "outputs": [],
   "source": [
    "dir(os)"
   ]
  },
  {
   "cell_type": "code",
   "execution_count": null,
   "metadata": {},
   "outputs": [],
   "source": [
    "# help(os)\n",
    "os.getcwd()# pwd in linux"
   ]
  },
  {
   "cell_type": "code",
   "execution_count": null,
   "metadata": {},
   "outputs": [],
   "source": [
    "os.listdir() # dir in windows or ls in linux"
   ]
  },
  {
   "cell_type": "code",
   "execution_count": null,
   "metadata": {},
   "outputs": [],
   "source": [
    "os.mkdir('C:\\\\Users\\\\91973\\\\Python_Training\\\\test212')"
   ]
  },
  {
   "cell_type": "code",
   "execution_count": null,
   "metadata": {},
   "outputs": [],
   "source": [
    "os.getcwd()\n",
    "fopen(\"'C:\\\\Users\\\\91973\\\\desktop\\\\text.txt  \")\n",
    "os.chdir('C:\\\\Users\\\\91973\\\\Python_Training\\\\test212')# cd \n",
    "os.getcwd()"
   ]
  },
  {
   "cell_type": "code",
   "execution_count": null,
   "metadata": {},
   "outputs": [],
   "source": [
    "dir(os)"
   ]
  },
  {
   "cell_type": "code",
   "execution_count": null,
   "metadata": {},
   "outputs": [],
   "source": [
    "os.getpid()"
   ]
  },
  {
   "cell_type": "code",
   "execution_count": null,
   "metadata": {},
   "outputs": [],
   "source": [
    "# os.chdir('C:\\\\Users\\\\assharma\\\\')\n",
    "os.rename('C:\\\\Users\\\\assharma\\\\test212','C:\\\\Users\\\\assharma\\\\test19331111')# mv newname filename"
   ]
  },
  {
   "cell_type": "code",
   "execution_count": null,
   "metadata": {},
   "outputs": [],
   "source": [
    "os.rmdir('C:\\\\Users\\\\assharma\\\\test19331111')# os.chmod('C:\\\\Users\\\\assharma\\\\test12',777)"
   ]
  },
  {
   "cell_type": "code",
   "execution_count": null,
   "metadata": {},
   "outputs": [],
   "source": [
    "os.chmod('C:\\\\Users\\\\assharma\\\\test',777)  #7 -- read write and exeucte"
   ]
  },
  {
   "cell_type": "code",
   "execution_count": null,
   "metadata": {},
   "outputs": [],
   "source": [
    "# os.system(\"shutdown /s /t 1\")\n",
    "# os.system(\"shutdown /r /t 1\")"
   ]
  },
  {
   "cell_type": "code",
   "execution_count": null,
   "metadata": {},
   "outputs": [],
   "source": [
    "import subprocess\n",
    "import os\n",
    "result = subprocess.run(['lsof', '-n', \"-i4TCP:%s\" % 80],stdout=subprocess.PIPE,stderr=subprocess.PIPE)\n",
    "# print(result)\n",
    "# help(subprocess)"
   ]
  },
  {
   "cell_type": "code",
   "execution_count": null,
   "metadata": {},
   "outputs": [],
   "source": [
    "import socket \n",
    "# help(socket)\n",
    "# print(socket.__file__)\n",
    "def find_service_name(): \n",
    "    protocolname = 'tcp' \n",
    "    for port in [80, 25]: \n",
    "        print (\"Port: %s => service name: %s\" %(port, socket.getservbyport(port, protocolname))) \n",
    "     \n",
    "    print (\"Port: %s => service name: %s\" %(53, socket.getservbyport(53, 'udp'))) \n",
    "      \n",
    "find_service_name() "
   ]
  },
  {
   "cell_type": "markdown",
   "metadata": {},
   "source": [
    "\n",
    "#### MATH Module"
   ]
  },
  {
   "cell_type": "code",
   "execution_count": null,
   "metadata": {},
   "outputs": [],
   "source": [
    "import math"
   ]
  },
  {
   "cell_type": "code",
   "execution_count": null,
   "metadata": {},
   "outputs": [],
   "source": [
    "dir(math)"
   ]
  },
  {
   "cell_type": "code",
   "execution_count": null,
   "metadata": {},
   "outputs": [],
   "source": [
    "print (math.acos(math.pi/4))"
   ]
  },
  {
   "cell_type": "code",
   "execution_count": null,
   "metadata": {},
   "outputs": [],
   "source": [
    "print (math.asin(math.pi/4))"
   ]
  },
  {
   "cell_type": "code",
   "execution_count": null,
   "metadata": {},
   "outputs": [],
   "source": [
    "print (math.log(1024,2))"
   ]
  },
  {
   "cell_type": "code",
   "execution_count": null,
   "metadata": {},
   "outputs": [],
   "source": [
    "print (math.trunc(23.000))"
   ]
  },
  {
   "cell_type": "markdown",
   "metadata": {},
   "source": [
    "#### Random Module"
   ]
  },
  {
   "cell_type": "code",
   "execution_count": null,
   "metadata": {},
   "outputs": [],
   "source": [
    "import random\n",
    "# dir(random)"
   ]
  },
  {
   "cell_type": "code",
   "execution_count": null,
   "metadata": {},
   "outputs": [],
   "source": [
    "a= random.choice([1,2,3,5,4,444,4,45,443])\n",
    "a"
   ]
  },
  {
   "cell_type": "code",
   "execution_count": null,
   "metadata": {},
   "outputs": [],
   "source": [
    "random.randrange(6)"
   ]
  },
  {
   "cell_type": "code",
   "execution_count": null,
   "metadata": {},
   "outputs": [],
   "source": [
    "help(random)"
   ]
  },
  {
   "cell_type": "code",
   "execution_count": null,
   "metadata": {},
   "outputs": [],
   "source": [
    "# random.randint(1.0,2.0)\n",
    "# print(help(random.randint()))\n",
    "help(random)\n",
    "# random.uniform(1, 5)"
   ]
  },
  {
   "cell_type": "code",
   "execution_count": null,
   "metadata": {},
   "outputs": [],
   "source": [
    "random.sample(range(10000000), 60)\n",
    "# Chooses k unique random elements from a population sequence or set."
   ]
  },
  {
   "cell_type": "code",
   "execution_count": null,
   "metadata": {},
   "outputs": [],
   "source": [
    "# random.sample(range(20), 5)\n",
    "import time\n",
    "dir(time)"
   ]
  },
  {
   "cell_type": "code",
   "execution_count": null,
   "metadata": {},
   "outputs": [],
   "source": [
    "import datetime"
   ]
  },
  {
   "cell_type": "code",
   "execution_count": null,
   "metadata": {},
   "outputs": [],
   "source": [
    "# dir(datetime)\n",
    "print(\"a)"
   ]
  },
  {
   "cell_type": "code",
   "execution_count": null,
   "metadata": {},
   "outputs": [],
   "source": [
    "# help(datetime)\n",
    "# print(tzinfo)\n",
    "dir(datetime)"
   ]
  },
  {
   "cell_type": "code",
   "execution_count": null,
   "metadata": {},
   "outputs": [],
   "source": [
    "from time import sleep\n",
    "print( \"before sleep\")\n",
    "sleep(10)\n",
    "print(\"after sleep\")"
   ]
  },
  {
   "cell_type": "code",
   "execution_count": null,
   "metadata": {},
   "outputs": [],
   "source": [
    "import mod\n",
    "# print (mod.stringModule)\n",
    "# print(type(mod.a))\n",
    "help(mod)\n",
    "# print(mod.__doc__)\n",
    "# print(\"type of \",type(mod.foo(2)))"
   ]
  },
  {
   "cell_type": "code",
   "execution_count": null,
   "metadata": {},
   "outputs": [],
   "source": [
    "help('modules')"
   ]
  },
  {
   "cell_type": "code",
   "execution_count": null,
   "metadata": {},
   "outputs": [],
   "source": [
    "pip install <modulename>"
   ]
  },
  {
   "cell_type": "code",
   "execution_count": null,
   "metadata": {},
   "outputs": [],
   "source": [
    "help('mailbox')"
   ]
  },
  {
   "cell_type": "code",
   "execution_count": null,
   "metadata": {},
   "outputs": [],
   "source": [
    "import inspect\n",
    "import mod\n",
    "\n",
    "for name, data in inspect.getmembers(mod):\n",
    "    if name.startswith('__'):\n",
    "        continue\n",
    "    print('{} : {!r}'.format(name, data))"
   ]
  },
  {
   "cell_type": "code",
   "execution_count": null,
   "metadata": {},
   "outputs": [],
   "source": [
    "import inspect\n",
    "import mod\n",
    "# print(inspect.getmembers(mod.Foo, inspect.isfunction))\n",
    "print(inspect.getmembers(mod.Foo, inspect.isfunction))\n"
   ]
  },
  {
   "cell_type": "code",
   "execution_count": null,
   "metadata": {},
   "outputs": [],
   "source": [
    "Assignment\n",
    "Do with modules"
   ]
  },
  {
   "cell_type": "code",
   "execution_count": null,
   "metadata": {},
   "outputs": [],
   "source": [
    "\n"
   ]
  },
  {
   "cell_type": "code",
   "execution_count": null,
   "metadata": {},
   "outputs": [],
   "source": [
    "path = \"C:/Users/assharma\"\n",
    "os.rmdir(os.path.join(path, \"My Directory\"))\n"
   ]
  },
  {
   "cell_type": "code",
   "execution_count": null,
   "metadata": {},
   "outputs": [],
   "source": [
    "import os\n",
    "path = \"C:/Users/assharma/GIF\"\n",
    "for file_name in os.listdir(path):\n",
    "    if file_name.lower().endswith(\".gif\"):\n",
    "        full_path = os.path.join(path, file_name)\n",
    "        new_file_name = full_path[:-4] + \"_backup.gif\"\n",
    "        os.rename(full_path, new_file_name)"
   ]
  },
  {
   "cell_type": "code",
   "execution_count": null,
   "metadata": {},
   "outputs": [],
   "source": [
    "import glob\n",
    "glob.glob(\"*.txt\")"
   ]
  },
  {
   "cell_type": "code",
   "execution_count": null,
   "metadata": {},
   "outputs": [],
   "source": [
    "import glob\n",
    "import os\n",
    "path = \"C:/Users/assharma/GIF\"\n",
    "possible_files = os.path.join(path, \"*.gif\")\n",
    "for file_name in glob.glob(possible_files):\n",
    "    full_path = os.path.join(path, file_name)\n",
    "new_file_name = full_path[:-4] + \"_backup.gif\"\n",
    "os.rename(full_path, new_file_name)"
   ]
  },
  {
   "cell_type": "markdown",
   "metadata": {},
   "source": [
    "When you provide a string with the full file path and an * to glob(), it\n",
    "returns a glob list of all possible GIF images in that particular directory"
   ]
  },
  {
   "cell_type": "code",
   "execution_count": null,
   "metadata": {},
   "outputs": [],
   "source": [
    "import glob\n",
    "import os\n",
    "path = \"C:/Users/assharma/GIF\"\n",
    "possible_files = os.path.join(path, \"*/*.png\")\n",
    "for file_name in glob.glob(possible_files):\n",
    "print(file_name)"
   ]
  },
  {
   "cell_type": "markdown",
   "metadata": {},
   "source": [
    "the string \"*/*.png\" to the path tells glob() to search for any\n",
    "files ending in .png that are inside of folders that can have any name\n",
    "(the first *). The forward slash used to separate the last folder tells\n",
    "glob() to only search in subfolders of the images/ directory"
   ]
  },
  {
   "cell_type": "code",
   "execution_count": null,
   "metadata": {},
   "outputs": [],
   "source": [
    "import os\n",
    "path = \"C:/Users/assharma/GIF\"\n",
    "files_and_folders = os.listdir(path)\n",
    "for folder_name in files_and_folders:\n",
    "full_path = os.path.join(path, folder_name)\n",
    "if os.path.isdir(full_path):\n",
    "os.rename(full_path, full_path + \" folder\")"
   ]
  },
  {
   "cell_type": "code",
   "execution_count": null,
   "metadata": {},
   "outputs": [],
   "source": [
    "import os\n",
    "path = \"C:/Users/assharma/GIF\"\n",
    "for current_folder, subfolders, file_names in os.walk(path):\n",
    "    for file_name in file_names:\n",
    "        print(os.path.join(current_folder, file_name))"
   ]
  },
  {
   "cell_type": "markdown",
   "metadata": {},
   "source": [
    "The call to os.walk() creates an object that Python can loop over. At\n",
    "each step of the loop, it returns a different tuple that includes:\n",
    "1. A particular folder\n",
    "2. A list of the subfolders within that folder, and\n",
    "3. A list of files within that folder."
   ]
  },
  {
   "cell_type": "markdown",
   "metadata": {},
   "source": [
    "## Assignment \n",
    "Write all assignments using command line argument"
   ]
  },
  {
   "cell_type": "code",
   "execution_count": null,
   "metadata": {},
   "outputs": [],
   "source": [
    "import Module1"
   ]
  },
  {
   "cell_type": "markdown",
   "metadata": {},
   "source": [
    "# Python Packages\n",
    "Suppose you have developed a very large application that includes many modules. As the number of modules grows, it becomes difficult to keep track of them all if they are dumped into one location. This is particularly so if they have similar names or functionality. You might wish for a means of grouping and organizing them.\n",
    "\n",
    "Packages allow for a hierarchical structuring of the module namespace using dot notation. In the same way that modules help avoid collisions between global variable names, packages help avoid collisions between module names.\n",
    "\n",
    "Creating a package is quite straightforward, since it makes use of the operating system’s inherent hierarchical file structure. Consider the following arrangement:"
   ]
  },
  {
   "cell_type": "code",
   "execution_count": null,
   "metadata": {},
   "outputs": [],
   "source": [
    "from mod import *"
   ]
  },
  {
   "cell_type": "code",
   "execution_count": null,
   "metadata": {},
   "outputs": [],
   "source": [
    "def FindSubstring(string):\n",
    "    rDs = set(string)\n",
    "    print (rDs)\n",
    "    length = len(list(rDs))\n",
    "    return length\n",
    "\n",
    "s = \"abcdeabcbbdeaxcaabcdef\"\n",
    "ret =  FindSubstring(s)\n",
    "print(ret)\n"
   ]
  },
  {
   "cell_type": "code",
   "execution_count": null,
   "metadata": {},
   "outputs": [],
   "source": []
  }
 ],
 "metadata": {
  "kernelspec": {
   "display_name": "Python 3",
   "language": "python",
   "name": "python3"
  },
  "language_info": {
   "codemirror_mode": {
    "name": "ipython",
    "version": 3
   },
   "file_extension": ".py",
   "mimetype": "text/x-python",
   "name": "python",
   "nbconvert_exporter": "python",
   "pygments_lexer": "ipython3",
   "version": "3.9.0"
  }
 },
 "nbformat": 4,
 "nbformat_minor": 2
}
