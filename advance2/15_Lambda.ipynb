{
 "cells": [
  {
   "cell_type": "markdown",
   "metadata": {},
   "source": [
    "## Lambda Function"
   ]
  },
  {
   "cell_type": "markdown",
   "metadata": {},
   "source": [
    "The lambda keyword creates an inline function that contains a single expression. The value of this expression is\n",
    "what the function returns when invoked.\n",
    "Consider the function:"
   ]
  },
  {
   "cell_type": "code",
   "execution_count": 1,
   "metadata": {},
   "outputs": [
    {
     "name": "stdout",
     "output_type": "stream",
     "text": [
      "Hello\n"
     ]
    }
   ],
   "source": [
    "def greeting():\n",
    "    return \"Hello\"\n",
    "x=greeting()\n",
    "print(x)"
   ]
  },
  {
   "cell_type": "markdown",
   "metadata": {},
   "source": [
    "which, when called as:\n"
   ]
  },
  {
   "cell_type": "markdown",
   "metadata": {},
   "source": [
    "This can be written as a lambda function as follows:\n"
   ]
  },
  {
   "cell_type": "code",
   "execution_count": 2,
   "metadata": {},
   "outputs": [
    {
     "name": "stdout",
     "output_type": "stream",
     "text": [
      "Hello\n"
     ]
    }
   ],
   "source": [
    "print(greeting())"
   ]
  },
  {
   "cell_type": "code",
   "execution_count": 3,
   "metadata": {},
   "outputs": [
    {
     "name": "stdout",
     "output_type": "stream",
     "text": [
      "<class 'function'>\n"
     ]
    }
   ],
   "source": [
    "greet_me = lambda : \"Hello\"\n",
    "print (type(greet_me))"
   ]
  },
  {
   "cell_type": "code",
   "execution_count": 4,
   "metadata": {},
   "outputs": [
    {
     "data": {
      "text/plain": [
       "'Hello'"
      ]
     },
     "execution_count": 4,
     "metadata": {},
     "output_type": "execute_result"
    }
   ],
   "source": [
    "greet_me()"
   ]
  },
  {
   "cell_type": "markdown",
   "metadata": {},
   "source": [
    "See note at the bottom of this section regarding the assignment of lambdas to variables. Generally, don't\n",
    "do it.\n",
    "This creates an inline function with the name greet_me that returns Hello. Note that you don't write return when\n",
    "creating a function with lambda. The value after : is automatically returned.\n",
    "Once assigned to a variable, it can be used just like a regular function:\n"
   ]
  },
  {
   "cell_type": "code",
   "execution_count": null,
   "metadata": {},
   "outputs": [],
   "source": [
    "print(greet_me())"
   ]
  },
  {
   "cell_type": "code",
   "execution_count": 5,
   "metadata": {},
   "outputs": [
    {
     "name": "stdout",
     "output_type": "stream",
     "text": [
      "PYTHON\n"
     ]
    }
   ],
   "source": [
    "def strip_and_upper(a):\n",
    "    return a.strip().upper()\n",
    "s=strip_and_upper(\"   python \")\n",
    "print(s)"
   ]
  },
  {
   "cell_type": "code",
   "execution_count": 6,
   "metadata": {},
   "outputs": [
    {
     "name": "stdout",
     "output_type": "stream",
     "text": [
      "PYTHON\n"
     ]
    }
   ],
   "source": [
    "strip_and_upper_case = lambda s: s.strip().upper()\n",
    "x=strip_and_upper_case(\"   python \")\n",
    "print(x)"
   ]
  },
  {
   "cell_type": "code",
   "execution_count": 22,
   "metadata": {},
   "outputs": [
    {
     "name": "stdout",
     "output_type": "stream",
     "text": [
      "<class 'function'>\n",
      "4\n"
     ]
    }
   ],
   "source": [
    "lambfunc = lambda s: s+2\n",
    "print(type(lambfunc))\n",
    "x=lambfunc(2)\n",
    "print(x)"
   ]
  },
  {
   "cell_type": "code",
   "execution_count": 23,
   "metadata": {},
   "outputs": [
    {
     "name": "stdout",
     "output_type": "stream",
     "text": [
      "445.7852556\n",
      "PYTHON\n",
      "445.7859751\n",
      "0.0007194999999455831\n"
     ]
    }
   ],
   "source": [
    "from timeit import default_timer as timer\n",
    "start = timer()\n",
    "print(start)\n",
    "def strip_and_upper(a):\n",
    "    return a.strip().upper()\n",
    "s=strip_and_upper(\"   python \")\n",
    "print(s)\n",
    "end = timer()\n",
    "print(end)\n",
    "print(end - start)"
   ]
  },
  {
   "cell_type": "code",
   "execution_count": 24,
   "metadata": {},
   "outputs": [
    {
     "name": "stdout",
     "output_type": "stream",
     "text": [
      "PYTHON\n",
      "PYTHON\n",
      "PYTHON\n",
      "PYTHON\n",
      "PYTHON\n",
      "PYTHON\n",
      "PYTHON\n",
      "PYTHON\n",
      "PYTHON\n",
      "PYTHON\n",
      "0.00043929999998226776\n"
     ]
    }
   ],
   "source": [
    "import timeit as program_time\n",
    " \n",
    "# code snippet whose execution time is to be measured\n",
    "mycode = '''\n",
    "def strip_and_upper(a):\n",
    "    return a.strip().upper()\n",
    "s=strip_and_upper(\"   python \")\n",
    "print(s)\n",
    "'''\n",
    " \n",
    "# timeit statement\n",
    "print (program_time.timeit(stmt = mycode,\n",
    "                     number = 10))\n"
   ]
  },
  {
   "cell_type": "markdown",
   "metadata": {},
   "source": [
    "lambdas can take arguments, too:\n"
   ]
  },
  {
   "cell_type": "code",
   "execution_count": 25,
   "metadata": {},
   "outputs": [
    {
     "name": "stdout",
     "output_type": "stream",
     "text": [
      "PYTHON\n",
      "PYTHON\n",
      "PYTHON\n",
      "PYTHON\n",
      "PYTHON\n",
      "PYTHON\n",
      "PYTHON\n",
      "PYTHON\n",
      "PYTHON\n",
      "PYTHON\n",
      "0.00015110000003915047\n"
     ]
    }
   ],
   "source": [
    "import timeit\n",
    " \n",
    "# code snippet whose execution time is to be measured\n",
    "mycode = '''\n",
    "strip_and_upper_case = lambda s: s.strip().upper()\n",
    "x=strip_and_upper_case(\"   python \")\n",
    "print(x)\n",
    "'''\n",
    " \n",
    "# timeit statement\n",
    "print (timeit.timeit(stmt = mycode,\n",
    "                     number = 10))"
   ]
  },
  {
   "cell_type": "code",
   "execution_count": null,
   "metadata": {},
   "outputs": [],
   "source": [
    "start = timer()\n",
    "strip_and_upper_case = lambda s: s.strip().upper()\n",
    "strip_and_upper_case(\" Hello \")\n",
    "end = timer()\n",
    "print(end - start)"
   ]
  },
  {
   "cell_type": "code",
   "execution_count": 26,
   "metadata": {},
   "outputs": [
    {
     "name": "stdout",
     "output_type": "stream",
     "text": [
      "hello (['world', 'python'],) {'world': 'third world'}\n"
     ]
    }
   ],
   "source": [
    "greeting= lambda x , *args, **kwargs: print(x,args,kwargs)\n",
    "greeting('hello',['world','python'],world='third world')"
   ]
  },
  {
   "cell_type": "code",
   "execution_count": 27,
   "metadata": {},
   "outputs": [
    {
     "name": "stdout",
     "output_type": "stream",
     "text": [
      "hello ('abcd',) {'world': 'thid world'}\n"
     ]
    }
   ],
   "source": [
    "greeting= lambda x , *args, **kwargs: print(x,args,kwargs)\n",
    "greeting('hello',\"abcd\",world='thid world')"
   ]
  },
  {
   "cell_type": "markdown",
   "metadata": {},
   "source": [
    "One can call other functions (with/without arguments) from inside a lambda function."
   ]
  },
  {
   "cell_type": "code",
   "execution_count": 28,
   "metadata": {},
   "outputs": [
    {
     "name": "stdout",
     "output_type": "stream",
     "text": [
      "hello world\n"
     ]
    }
   ],
   "source": [
    "def foo(msg):\n",
    "    print(msg)\n",
    "greet = lambda x = \"hello world\": foo(x)\n",
    "greet()"
   ]
  },
  {
   "cell_type": "code",
   "execution_count": null,
   "metadata": {},
   "outputs": [],
   "source": [
    "def a ():\n",
    "    return \"python\"\n",
    "s=a()\n",
    "s"
   ]
  },
  {
   "cell_type": "code",
   "execution_count": 29,
   "metadata": {},
   "outputs": [
    {
     "data": {
      "text/plain": [
       "25"
      ]
     },
     "execution_count": 29,
     "metadata": {},
     "output_type": "execute_result"
    }
   ],
   "source": [
    "def fun(x):\n",
    "\treturn lambda a: a**x\n",
    "power2 = fun(2) #Function variable power2 = fun(a)\n",
    "# =================\n",
    "# power2= lambda a: a**2\n",
    "power2(5)"
   ]
  },
  {
   "cell_type": "code",
   "execution_count": 30,
   "metadata": {},
   "outputs": [
    {
     "data": {
      "text/plain": [
       "16"
      ]
     },
     "execution_count": 30,
     "metadata": {},
     "output_type": "execute_result"
    }
   ],
   "source": [
    "power2(4)"
   ]
  },
  {
   "cell_type": "code",
   "execution_count": 31,
   "metadata": {},
   "outputs": [],
   "source": [
    "power3 = fun(3) #Function variable power2 = fun(a)\n",
    "# power3= lambda a: a**3"
   ]
  },
  {
   "cell_type": "code",
   "execution_count": 32,
   "metadata": {},
   "outputs": [
    {
     "data": {
      "text/plain": [
       "125"
      ]
     },
     "execution_count": 32,
     "metadata": {},
     "output_type": "execute_result"
    }
   ],
   "source": [
    "power3(5)"
   ]
  },
  {
   "cell_type": "code",
   "execution_count": 33,
   "metadata": {},
   "outputs": [
    {
     "data": {
      "text/plain": [
       "32"
      ]
     },
     "execution_count": 33,
     "metadata": {},
     "output_type": "execute_result"
    }
   ],
   "source": [
    "power5=fun(5)# lambda a: a**5\n",
    "power5(2)"
   ]
  },
  {
   "cell_type": "code",
   "execution_count": 38,
   "metadata": {},
   "outputs": [],
   "source": [
    "def moreFun(x):\n",
    "\treturn lambda a,b: (a+b)**x\n",
    "# \treturn (a+b)**x"
   ]
  },
  {
   "cell_type": "code",
   "execution_count": 39,
   "metadata": {},
   "outputs": [
    {
     "name": "stdout",
     "output_type": "stream",
     "text": [
      "<class 'function'>\n"
     ]
    }
   ],
   "source": [
    "caluctaepower= moreFun(2)\n",
    "print (type(power2))"
   ]
  },
  {
   "cell_type": "code",
   "execution_count": 41,
   "metadata": {},
   "outputs": [
    {
     "data": {
      "text/plain": [
       "169"
      ]
     },
     "execution_count": 41,
     "metadata": {},
     "output_type": "execute_result"
    }
   ],
   "source": [
    "caluctaepower(6,7)"
   ]
  },
  {
   "cell_type": "markdown",
   "metadata": {},
   "source": [
    "lambdas are commonly used for short functions that are convenient to define at the point where they are called\n",
    "(typically with sorted, filter and map)."
   ]
  },
  {
   "cell_type": "markdown",
   "metadata": {},
   "source": [
    "map function\n",
    "map() is a function with two arguments:\n",
    "r = map(func, seq)\n",
    "The first argument func is the name of a function and the \n",
    "second a sequence (e.g. a list) seq. map() applies the function \n",
    "func to all the elements of the sequence seq. It returns a new list with the elements changed by func\n"
   ]
  },
  {
   "cell_type": "code",
   "execution_count": 44,
   "metadata": {},
   "outputs": [],
   "source": [
    "def fahrenheit(T):\n",
    "\treturn ((float(9)/5)*T + 32)\n",
    "def celsius(T):\n",
    "    return (float(5)/9)*(T-32)"
   ]
  },
  {
   "cell_type": "code",
   "execution_count": 45,
   "metadata": {},
   "outputs": [],
   "source": [
    "temp = (36.5, 37, 37.5,39)"
   ]
  },
  {
   "cell_type": "code",
   "execution_count": 46,
   "metadata": {},
   "outputs": [
    {
     "name": "stdout",
     "output_type": "stream",
     "text": [
      "(97.7, 98.60000000000001, 99.5, 102.2)\n"
     ]
    }
   ],
   "source": [
    "F =tuple(map(fahrenheit, temp))\n",
    "#map(Fahrenheit,(36.5, 37, 37.5,39))\n",
    "# F =list( map(fahrenheit, temp))\n",
    "print (F)\n",
    "# print(tuple(F))"
   ]
  },
  {
   "cell_type": "code",
   "execution_count": null,
   "metadata": {},
   "outputs": [],
   "source": [
    "tup"
   ]
  },
  {
   "cell_type": "code",
   "execution_count": 47,
   "metadata": {},
   "outputs": [
    {
     "name": "stdout",
     "output_type": "stream",
     "text": [
      "<map object at 0x000001942C47BCA0>\n",
      "<class 'map'>\n"
     ]
    }
   ],
   "source": [
    "C = map(celsius, F)\n",
    "print(C)\n",
    "print(type(C))"
   ]
  },
  {
   "cell_type": "code",
   "execution_count": 48,
   "metadata": {},
   "outputs": [
    {
     "name": "stdout",
     "output_type": "stream",
     "text": [
      "[36.5, 37.00000000000001, 37.5, 39.0]\n"
     ]
    }
   ],
   "source": [
    "print(list(C))"
   ]
  },
  {
   "cell_type": "code",
   "execution_count": 49,
   "metadata": {},
   "outputs": [
    {
     "name": "stdout",
     "output_type": "stream",
     "text": [
      "<class 'map'>\n",
      "[102.56, 97.7, 99.14, 100.03999999999999]\n"
     ]
    }
   ],
   "source": [
    "Celsius = [39.2, 36.5, 37.3, 37.8]\n",
    "Fahrenheit = map(lambda x: (float(9)/5)*x + 32, Celsius)\n",
    "print(type(Fahrenheit))\n",
    "print (list(Fahrenheit))"
   ]
  },
  {
   "cell_type": "code",
   "execution_count": 50,
   "metadata": {},
   "outputs": [
    {
     "name": "stdout",
     "output_type": "stream",
     "text": [
      "[36.5, 37.00000000000001, 37.5, 39.0]\n"
     ]
    }
   ],
   "source": [
    "C = map(lambda x: (float(5)/9)*(x-32), F)\n",
    "print(list(C))"
   ]
  },
  {
   "cell_type": "code",
   "execution_count": 51,
   "metadata": {},
   "outputs": [
    {
     "name": "stdout",
     "output_type": "stream",
     "text": [
      "['39.2', '36.5', '37.3', '37.8']\n"
     ]
    }
   ],
   "source": [
    "value = [39.2, 36.5, 37.3, 37.8]\n",
    "intValue = map(lambda x:str(x), value)\n",
    "print (list(intValue))"
   ]
  },
  {
   "cell_type": "code",
   "execution_count": 52,
   "metadata": {},
   "outputs": [
    {
     "name": "stdout",
     "output_type": "stream",
     "text": [
      "[78.4, 73.0, 74.6, 75.6]\n"
     ]
    }
   ],
   "source": [
    "value = [39.2, 36.5, 37.3, 37.8]\n",
    "doubleValue = map(lambda x:2*x, value)\n",
    "print (list(doubleValue))"
   ]
  },
  {
   "cell_type": "markdown",
   "metadata": {},
   "source": [
    "# Filter function(function,list)\n",
    " The function filter(function, list) offers an elegant way to \n",
    " filter out all the elements of a list, for which the function function returns True. \n",
    " The function filter(f,l) needs a function f as its first argument. \n",
    " f returns a Boolean value, i.e. either True or False. \n",
    " This function will be applied to every element of the list l. \n",
    " Only if f returns True will the element of the list be included in the result list.\n"
   ]
  },
  {
   "cell_type": "code",
   "execution_count": 53,
   "metadata": {},
   "outputs": [
    {
     "name": "stdout",
     "output_type": "stream",
     "text": [
      "<class 'filter'>\n",
      "filter out put [2, 8, 34]\n",
      "map output [False, False, True, False, False, True, False, False, True, False]\n"
     ]
    }
   ],
   "source": [
    "fib = [1,1,2,3,5,8,13,21,34,55]\n",
    "result = filter(lambda x: x % 2==0, fib)\n",
    "resultmap = map(lambda x: x % 2==0, fib)\n",
    "print(type(result))\n",
    "print (f\"filter out put {list(result)}\")\n",
    "print (f\"map output {list(resultmap)}\")"
   ]
  },
  {
   "cell_type": "code",
   "execution_count": 54,
   "metadata": {},
   "outputs": [
    {
     "name": "stdout",
     "output_type": "stream",
     "text": [
      "[1, 1, 2, 3, 5, 8, 13]\n"
     ]
    }
   ],
   "source": [
    "result = filter(lambda x: x<20, fib)\n",
    "print (list(result))"
   ]
  },
  {
   "cell_type": "code",
   "execution_count": 55,
   "metadata": {},
   "outputs": [
    {
     "name": "stdout",
     "output_type": "stream",
     "text": [
      "[3, 5, 8, 13, 21, 34, 55]\n"
     ]
    }
   ],
   "source": [
    "result = filter(lambda x: x>2, fib)\n",
    "print (list(result))"
   ]
  },
  {
   "cell_type": "markdown",
   "metadata": {},
   "source": [
    "# reduce(func,seq)\n",
    " The function reduce(func, seq) continually applies\n",
    " the function func() to the sequence seq. It returns a single value. \n",
    " If seq = [ s1, s2, s3, ... , sn ], calling reduce(func, seq) works like this:\n",
    " At first the first two elements of seq will be applied to func, i.e. func(s1,s2) \n",
    " The list on which reduce() works looks now like this: [ func(s1, s2), s3, ... , sn ]\n",
    " In the next step func will be applied on the previous result and the third element of \n",
    " the list, i.e. func(func(s1, s2),s3)\n",
    " The list looks like this now: [ func(func(s1, s2),s3), ... , sn ]\n",
    " Continue like this until just one element is left and return this element as the result of reduce()\n"
   ]
  },
  {
   "cell_type": "code",
   "execution_count": null,
   "metadata": {},
   "outputs": [],
   "source": [
    "from IPython.display import Image\n",
    "Image('http://www.python-course.eu/images/reduce_diagram.png')"
   ]
  },
  {
   "cell_type": "code",
   "execution_count": 56,
   "metadata": {},
   "outputs": [
    {
     "name": "stdout",
     "output_type": "stream",
     "text": [
      "189\n"
     ]
    }
   ],
   "source": [
    "from functools import reduce\n",
    "x = reduce(lambda x, y: x+y, [47,11,42,33,43,13])\n",
    "print (x)\n",
    "# \n",
    "# help(reduce)"
   ]
  },
  {
   "cell_type": "markdown",
   "metadata": {},
   "source": [
    "## from functools import reduce\n"
   ]
  },
  {
   "cell_type": "code",
   "execution_count": 57,
   "metadata": {},
   "outputs": [
    {
     "name": "stdout",
     "output_type": "stream",
     "text": [
      "102\n"
     ]
    }
   ],
   "source": [
    "a=reduce(lambda a,b: a if (a > b)  else b , [47,11,42,102,13])\n",
    "print (a)"
   ]
  },
  {
   "cell_type": "code",
   "execution_count": 58,
   "metadata": {},
   "outputs": [
    {
     "name": "stdout",
     "output_type": "stream",
     "text": [
      "11\n"
     ]
    }
   ],
   "source": [
    "b=reduce(lambda a,b: a if (a < b)  else b , [47,11,42,102,13])\n",
    "print (b)"
   ]
  },
  {
   "cell_type": "code",
   "execution_count": 59,
   "metadata": {},
   "outputs": [
    {
     "name": "stdout",
     "output_type": "stream",
     "text": [
      "1\n",
      "2\n",
      "3\n",
      "4\n",
      "5\n",
      "6\n",
      "7\n",
      "8\n",
      "9\n"
     ]
    }
   ],
   "source": [
    "for i in range(1,10):\n",
    "    print (i)"
   ]
  },
  {
   "cell_type": "code",
   "execution_count": 60,
   "metadata": {},
   "outputs": [
    {
     "name": "stdout",
     "output_type": "stream",
     "text": [
      "5050\n"
     ]
    }
   ],
   "source": [
    "x=reduce(lambda x, y: x+y, range(1,101)) # [1,2,3,4,,5..100]\n",
    "print (x)"
   ]
  },
  {
   "cell_type": "code",
   "execution_count": null,
   "metadata": {},
   "outputs": [],
   "source": [
    "dir(list)"
   ]
  },
  {
   "cell_type": "code",
   "execution_count": 61,
   "metadata": {},
   "outputs": [
    {
     "data": {
      "text/plain": [
       "'HELLO!'"
      ]
     },
     "execution_count": 61,
     "metadata": {},
     "output_type": "execute_result"
    }
   ],
   "source": [
    "def yell(text):\n",
    "    return text.upper() + '!'\n",
    "yell('hello')"
   ]
  },
  {
   "cell_type": "code",
   "execution_count": 62,
   "metadata": {},
   "outputs": [
    {
     "data": {
      "text/plain": [
       "'yell'"
      ]
     },
     "execution_count": 62,
     "metadata": {},
     "output_type": "execute_result"
    }
   ],
   "source": [
    "yell.__name__"
   ]
  },
  {
   "cell_type": "markdown",
   "metadata": {},
   "source": [
    "All data in a Python program is represented by objects or relations\n",
    "between objects.1 Things like strings, lists, modules, and functions\n",
    "are all objects. There’s nothing particularly special about functions in\n",
    "Python. They’re also just objects"
   ]
  },
  {
   "cell_type": "code",
   "execution_count": 63,
   "metadata": {},
   "outputs": [
    {
     "data": {
      "text/plain": [
       "'WOOF!'"
      ]
     },
     "execution_count": 63,
     "metadata": {},
     "output_type": "execute_result"
    }
   ],
   "source": [
    "bark = yell\n",
    "bark('woof')"
   ]
  },
  {
   "cell_type": "code",
   "execution_count": 64,
   "metadata": {},
   "outputs": [
    {
     "data": {
      "text/plain": [
       "'yell'"
      ]
     },
     "execution_count": 64,
     "metadata": {},
     "output_type": "execute_result"
    }
   ],
   "source": [
    "bark.__name__"
   ]
  },
  {
   "cell_type": "code",
   "execution_count": 65,
   "metadata": {},
   "outputs": [
    {
     "data": {
      "text/plain": [
       "'WOOF!'"
      ]
     },
     "execution_count": 65,
     "metadata": {},
     "output_type": "execute_result"
    }
   ],
   "source": [
    "del yell\n",
    "bark('woof')"
   ]
  },
  {
   "cell_type": "code",
   "execution_count": 66,
   "metadata": {},
   "outputs": [
    {
     "data": {
      "text/plain": [
       "'yell'"
      ]
     },
     "execution_count": 66,
     "metadata": {},
     "output_type": "execute_result"
    }
   ],
   "source": [
    "# yell('hello?')\n",
    "bark.__name__"
   ]
  },
  {
   "cell_type": "code",
   "execution_count": null,
   "metadata": {},
   "outputs": [],
   "source": [
    "Functions Can Be Stored in Data Structures"
   ]
  },
  {
   "cell_type": "code",
   "execution_count": 67,
   "metadata": {},
   "outputs": [
    {
     "data": {
      "text/plain": [
       "[<function __main__.yell(text)>,\n",
       " <method 'lower' of 'str' objects>,\n",
       " <method 'capitalize' of 'str' objects>]"
      ]
     },
     "execution_count": 67,
     "metadata": {},
     "output_type": "execute_result"
    }
   ],
   "source": [
    "funcs = [bark, str.lower, str.capitalize]\n",
    "funcs"
   ]
  },
  {
   "cell_type": "code",
   "execution_count": 68,
   "metadata": {},
   "outputs": [
    {
     "name": "stdout",
     "output_type": "stream",
     "text": [
      "<function yell at 0x000001942C97BD30> HEY THERE!\n",
      "<method 'lower' of 'str' objects> hey there\n",
      "<method 'capitalize' of 'str' objects> Hey there\n"
     ]
    }
   ],
   "source": [
    " for f in funcs:\n",
    "        print(f, f('hey there'))"
   ]
  },
  {
   "cell_type": "code",
   "execution_count": 69,
   "metadata": {},
   "outputs": [
    {
     "data": {
      "text/plain": [
       "'HEYHO!'"
      ]
     },
     "execution_count": 69,
     "metadata": {},
     "output_type": "execute_result"
    }
   ],
   "source": [
    "funcs[0]('heyho')"
   ]
  },
  {
   "cell_type": "code",
   "execution_count": 70,
   "metadata": {},
   "outputs": [
    {
     "name": "stdout",
     "output_type": "stream",
     "text": [
      "HI, I AM A PYTHON PROGRAM!\n"
     ]
    }
   ],
   "source": [
    "def bark(text):\n",
    "    return text.upper() + '!'\n",
    "\n",
    "def greet(func):\n",
    "    greeting = func('Hi, I am a Python program')\n",
    "    print(greeting)\n",
    "\n",
    "greet(bark)\n"
   ]
  },
  {
   "cell_type": "code",
   "execution_count": 71,
   "metadata": {},
   "outputs": [
    {
     "name": "stdout",
     "output_type": "stream",
     "text": [
      "hi, i am a python program...\n"
     ]
    }
   ],
   "source": [
    "def whisper(text):\n",
    "    return text.lower() + '...'\n",
    "greet(whisper)"
   ]
  },
  {
   "cell_type": "code",
   "execution_count": 72,
   "metadata": {},
   "outputs": [
    {
     "data": {
      "text/plain": [
       "'hello, world...'"
      ]
     },
     "execution_count": 72,
     "metadata": {},
     "output_type": "execute_result"
    }
   ],
   "source": [
    "def speak(text):\n",
    "    def whisper(t):\n",
    "        return t.lower() + '...'\n",
    "    return whisper(text)\n",
    "speak('Hello, World')"
   ]
  },
  {
   "cell_type": "code",
   "execution_count": null,
   "metadata": {},
   "outputs": [],
   "source": []
  }
 ],
 "metadata": {
  "kernelspec": {
   "display_name": "Python 3",
   "language": "python",
   "name": "python3"
  },
  "language_info": {
   "codemirror_mode": {
    "name": "ipython",
    "version": 3
   },
   "file_extension": ".py",
   "mimetype": "text/x-python",
   "name": "python",
   "nbconvert_exporter": "python",
   "pygments_lexer": "ipython3",
   "version": "3.8.3"
  }
 },
 "nbformat": 4,
 "nbformat_minor": 2
}
