{
 "cells": [
  {
   "cell_type": "markdown",
   "metadata": {},
   "source": [
    "### Deep copy and Shallow copy"
   ]
  },
  {
   "cell_type": "markdown",
   "metadata": {},
   "source": [
    "Important Points:\n",
    "The difference between shallow and deep copying is only \n",
    "relevant for compound objects (objects that contain other objects, like lists or class instances):\n"
   ]
  },
  {
   "cell_type": "code",
   "execution_count": 1,
   "metadata": {},
   "outputs": [
    {
     "name": "stdout",
     "output_type": "stream",
     "text": [
      "Requirement already satisfied: nb_black in c:\\users\\91973\\appdata\\local\\programs\\python\\python39\\lib\\site-packages (1.0.7)\n",
      "Requirement already satisfied: ipython in c:\\users\\91973\\appdata\\roaming\\python\\python39\\site-packages (from nb_black) (8.18.1)\n",
      "Requirement already satisfied: black>='19.3' in c:\\users\\91973\\appdata\\local\\programs\\python\\python39\\lib\\site-packages (from nb_black) (24.1a1)\n",
      "Requirement already satisfied: stack-data in c:\\users\\91973\\appdata\\roaming\\python\\python39\\site-packages (from ipython->nb_black) (0.6.3)\n",
      "Requirement already satisfied: prompt-toolkit<3.1.0,>=3.0.41 in c:\\users\\91973\\appdata\\roaming\\python\\python39\\site-packages (from ipython->nb_black) (3.0.43)\n",
      "Requirement already satisfied: matplotlib-inline in c:\\users\\91973\\appdata\\roaming\\python\\python39\\site-packages (from ipython->nb_black) (0.1.6)\n",
      "Requirement already satisfied: decorator in c:\\users\\91973\\appdata\\roaming\\python\\python39\\site-packages (from ipython->nb_black) (5.1.1)\n",
      "Requirement already satisfied: traitlets>=5 in c:\\users\\91973\\appdata\\roaming\\python\\python39\\site-packages (from ipython->nb_black) (5.14.0)\n",
      "Requirement already satisfied: jedi>=0.16 in c:\\users\\91973\\appdata\\roaming\\python\\python39\\site-packages (from ipython->nb_black) (0.19.1)\n",
      "Requirement already satisfied: typing-extensions; python_version < \"3.10\" in c:\\users\\91973\\appdata\\roaming\\python\\python39\\site-packages (from ipython->nb_black) (4.9.0)\n",
      "Requirement already satisfied: colorama; sys_platform == \"win32\" in c:\\users\\91973\\appdata\\local\\programs\\python\\python39\\lib\\site-packages (from ipython->nb_black) (0.4.4)\n",
      "Requirement already satisfied: exceptiongroup; python_version < \"3.11\" in c:\\users\\91973\\appdata\\roaming\\python\\python39\\site-packages (from ipython->nb_black) (1.2.0)\n",
      "Requirement already satisfied: pygments>=2.4.0 in c:\\users\\91973\\appdata\\local\\programs\\python\\python39\\lib\\site-packages (from ipython->nb_black) (2.7.2)\n",
      "Requirement already satisfied: mypy-extensions>=0.4.3 in c:\\users\\91973\\appdata\\local\\programs\\python\\python39\\lib\\site-packages (from black>='19.3'->nb_black) (1.0.0)\n",
      "Requirement already satisfied: pathspec>=0.9.0 in c:\\users\\91973\\appdata\\local\\programs\\python\\python39\\lib\\site-packages (from black>='19.3'->nb_black) (0.12.1)\n",
      "Requirement already satisfied: click>=8.0.0 in c:\\users\\91973\\appdata\\local\\programs\\python\\python39\\lib\\site-packages (from black>='19.3'->nb_black) (8.1.7)\n",
      "Requirement already satisfied: tomli>=1.1.0; python_version < \"3.11\" in c:\\users\\91973\\appdata\\local\\programs\\python\\python39\\lib\\site-packages (from black>='19.3'->nb_black) (2.0.1)\n",
      "Requirement already satisfied: platformdirs>=2 in c:\\users\\91973\\appdata\\roaming\\python\\python39\\site-packages (from black>='19.3'->nb_black) (4.1.0)\n",
      "Requirement already satisfied: packaging>=22.0 in c:\\users\\91973\\appdata\\roaming\\python\\python39\\site-packages (from black>='19.3'->nb_black) (23.2)\n",
      "Requirement already satisfied: asttokens>=2.1.0 in c:\\users\\91973\\appdata\\roaming\\python\\python39\\site-packages (from stack-data->ipython->nb_black) (2.4.1)\n",
      "Requirement already satisfied: pure-eval in c:\\users\\91973\\appdata\\roaming\\python\\python39\\site-packages (from stack-data->ipython->nb_black) (0.2.2)\n",
      "Requirement already satisfied: executing>=1.2.0 in c:\\users\\91973\\appdata\\roaming\\python\\python39\\site-packages (from stack-data->ipython->nb_black) (2.0.1)\n",
      "Requirement already satisfied: wcwidth in c:\\users\\91973\\appdata\\local\\programs\\python\\python39\\lib\\site-packages (from prompt-toolkit<3.1.0,>=3.0.41->ipython->nb_black) (0.2.5)\n",
      "Requirement already satisfied: parso<0.9.0,>=0.8.3 in c:\\users\\91973\\appdata\\roaming\\python\\python39\\site-packages (from jedi>=0.16->ipython->nb_black) (0.8.3)\n",
      "Requirement already satisfied: six>=1.12.0 in c:\\users\\91973\\appdata\\local\\programs\\python\\python39\\lib\\site-packages (from asttokens>=2.1.0->stack-data->ipython->nb_black) (1.15.0)\n",
      "Note: you may need to restart the kernel to use updated packages.\n"
     ]
    },
    {
     "name": "stderr",
     "output_type": "stream",
     "text": [
      "WARNING: You are using pip version 20.2.4; however, version 24.0 is available.\n",
      "You should consider upgrading via the 'c:\\Users\\91973\\AppData\\Local\\Programs\\Python\\Python39\\python.exe -m pip install --upgrade pip' command.\n"
     ]
    }
   ],
   "source": [
    "pip install nb_black"
   ]
  },
  {
   "cell_type": "code",
   "execution_count": 3,
   "metadata": {},
   "outputs": [
    {
     "name": "stdout",
     "output_type": "stream",
     "text": [
      "The nb_black extension is already loaded. To reload it, use:\n",
      "  %reload_ext nb_black\n"
     ]
    },
    {
     "data": {
      "application/javascript": "\n            setTimeout(function() {\n                var nbb_cell_id = 3;\n                var nbb_unformatted_code = \"%load_ext nb_black\";\n                var nbb_formatted_code = \"%load_ext nb_black\";\n                var nbb_cells = Jupyter.notebook.get_cells();\n                for (var i = 0; i < nbb_cells.length; ++i) {\n                    if (nbb_cells[i].input_prompt_number == nbb_cell_id) {\n                        if (nbb_cells[i].get_text() == nbb_unformatted_code) {\n                             nbb_cells[i].set_text(nbb_formatted_code);\n                        }\n                        break;\n                    }\n                }\n            }, 500);\n            ",
      "text/plain": [
       "<IPython.core.display.Javascript object>"
      ]
     },
     "metadata": {},
     "output_type": "display_data"
    }
   ],
   "source": [
    "%load_ext nb_black"
   ]
  },
  {
   "cell_type": "code",
   "execution_count": 4,
   "metadata": {},
   "outputs": [
    {
     "name": "stdout",
     "output_type": "stream",
     "text": [
      "l2 value [123, 3, 3433]\n",
      "l1 value [123, 3, 3433]\n"
     ]
    },
    {
     "data": {
      "application/javascript": "\n            setTimeout(function() {\n                var nbb_cell_id = 4;\n                var nbb_unformatted_code = \"l1 = [123, 3, 3433]\\nl2 = l1\\nprint(\\\"l2 value\\\", l2)\\nprint(\\\"l1 value\\\", l1)\";\n                var nbb_formatted_code = \"l1 = [123, 3, 3433]\\nl2 = l1\\nprint(\\\"l2 value\\\", l2)\\nprint(\\\"l1 value\\\", l1)\";\n                var nbb_cells = Jupyter.notebook.get_cells();\n                for (var i = 0; i < nbb_cells.length; ++i) {\n                    if (nbb_cells[i].input_prompt_number == nbb_cell_id) {\n                        if (nbb_cells[i].get_text() == nbb_unformatted_code) {\n                             nbb_cells[i].set_text(nbb_formatted_code);\n                        }\n                        break;\n                    }\n                }\n            }, 500);\n            ",
      "text/plain": [
       "<IPython.core.display.Javascript object>"
      ]
     },
     "metadata": {},
     "output_type": "display_data"
    }
   ],
   "source": [
    "l1 = [123, 3, 3433]\n",
    "l2 = l1\n",
    "print(\"l2 value\", l2)\n",
    "print(\"l1 value\", l1)"
   ]
  },
  {
   "cell_type": "code",
   "execution_count": 5,
   "metadata": {},
   "outputs": [
    {
     "name": "stdout",
     "output_type": "stream",
     "text": [
      "l2 ID 2713653847104\n",
      "l1 ID 2713653847104\n"
     ]
    },
    {
     "data": {
      "application/javascript": "\n            setTimeout(function() {\n                var nbb_cell_id = 5;\n                var nbb_unformatted_code = \"print(\\\"l2 ID\\\", id(l2))\\nprint(\\\"l1 ID\\\", id(l1))\";\n                var nbb_formatted_code = \"print(\\\"l2 ID\\\", id(l2))\\nprint(\\\"l1 ID\\\", id(l1))\";\n                var nbb_cells = Jupyter.notebook.get_cells();\n                for (var i = 0; i < nbb_cells.length; ++i) {\n                    if (nbb_cells[i].input_prompt_number == nbb_cell_id) {\n                        if (nbb_cells[i].get_text() == nbb_unformatted_code) {\n                             nbb_cells[i].set_text(nbb_formatted_code);\n                        }\n                        break;\n                    }\n                }\n            }, 500);\n            ",
      "text/plain": [
       "<IPython.core.display.Javascript object>"
      ]
     },
     "metadata": {},
     "output_type": "display_data"
    }
   ],
   "source": [
    "print(\"l2 ID\", id(l2))\n",
    "print(\"l1 ID\", id(l1))"
   ]
  },
  {
   "cell_type": "code",
   "execution_count": 6,
   "metadata": {},
   "outputs": [
    {
     "name": "stdout",
     "output_type": "stream",
     "text": [
      "after change l2 value [123, 3]\n",
      "after l1 value [123, 3, 3433]\n"
     ]
    },
    {
     "data": {
      "application/javascript": "\n            setTimeout(function() {\n                var nbb_cell_id = 6;\n                var nbb_unformatted_code = \"l2 = [123, 3]\\nprint(\\\"after change l2 value\\\", l2)\\nprint(\\\"after l1 value\\\", l1)\";\n                var nbb_formatted_code = \"l2 = [123, 3]\\nprint(\\\"after change l2 value\\\", l2)\\nprint(\\\"after l1 value\\\", l1)\";\n                var nbb_cells = Jupyter.notebook.get_cells();\n                for (var i = 0; i < nbb_cells.length; ++i) {\n                    if (nbb_cells[i].input_prompt_number == nbb_cell_id) {\n                        if (nbb_cells[i].get_text() == nbb_unformatted_code) {\n                             nbb_cells[i].set_text(nbb_formatted_code);\n                        }\n                        break;\n                    }\n                }\n            }, 500);\n            ",
      "text/plain": [
       "<IPython.core.display.Javascript object>"
      ]
     },
     "metadata": {},
     "output_type": "display_data"
    }
   ],
   "source": [
    "l2 = [123, 3]\n",
    "print(\"after change l2 value\", l2)\n",
    "print(\"after l1 value\", l1)"
   ]
  },
  {
   "cell_type": "code",
   "execution_count": 7,
   "metadata": {},
   "outputs": [
    {
     "name": "stdout",
     "output_type": "stream",
     "text": [
      "l1 : [100, 3, 3433]  and l2 : [100, 3, 3433]\n"
     ]
    },
    {
     "data": {
      "application/javascript": "\n            setTimeout(function() {\n                var nbb_cell_id = 7;\n                var nbb_unformatted_code = \"l1 = [123, 3, 3433]\\nl2 = l1\\nl1[0] = 100\\nprint(f\\\"l1 : {l1}  and l2 : {l2}\\\")\";\n                var nbb_formatted_code = \"l1 = [123, 3, 3433]\\nl2 = l1\\nl1[0] = 100\\nprint(f\\\"l1 : {l1}  and l2 : {l2}\\\")\";\n                var nbb_cells = Jupyter.notebook.get_cells();\n                for (var i = 0; i < nbb_cells.length; ++i) {\n                    if (nbb_cells[i].input_prompt_number == nbb_cell_id) {\n                        if (nbb_cells[i].get_text() == nbb_unformatted_code) {\n                             nbb_cells[i].set_text(nbb_formatted_code);\n                        }\n                        break;\n                    }\n                }\n            }, 500);\n            ",
      "text/plain": [
       "<IPython.core.display.Javascript object>"
      ]
     },
     "metadata": {},
     "output_type": "display_data"
    }
   ],
   "source": [
    "l1 = [123, 3, 3433]\n",
    "l2 = l1\n",
    "l1[0] = 100\n",
    "print(f\"l1 : {l1}  and l2 : {l2}\")"
   ]
  },
  {
   "cell_type": "code",
   "execution_count": 8,
   "metadata": {},
   "outputs": [
    {
     "name": "stdout",
     "output_type": "stream",
     "text": [
      "ID of Old List: 2713653828544\n",
      "ID of New List: 2713653828544\n"
     ]
    },
    {
     "data": {
      "application/javascript": "\n            setTimeout(function() {\n                var nbb_cell_id = 8;\n                var nbb_unformatted_code = \"old_list = [[1, 2, 3], [4, 5, 6], [7, 8, \\\"a\\\"]]\\nnew_list = old_list\\nprint(\\\"ID of Old List:\\\", id(old_list))\\nprint(\\\"ID of New List:\\\", id(new_list))\";\n                var nbb_formatted_code = \"old_list = [[1, 2, 3], [4, 5, 6], [7, 8, \\\"a\\\"]]\\nnew_list = old_list\\nprint(\\\"ID of Old List:\\\", id(old_list))\\nprint(\\\"ID of New List:\\\", id(new_list))\";\n                var nbb_cells = Jupyter.notebook.get_cells();\n                for (var i = 0; i < nbb_cells.length; ++i) {\n                    if (nbb_cells[i].input_prompt_number == nbb_cell_id) {\n                        if (nbb_cells[i].get_text() == nbb_unformatted_code) {\n                             nbb_cells[i].set_text(nbb_formatted_code);\n                        }\n                        break;\n                    }\n                }\n            }, 500);\n            ",
      "text/plain": [
       "<IPython.core.display.Javascript object>"
      ]
     },
     "metadata": {},
     "output_type": "display_data"
    }
   ],
   "source": [
    "old_list = [[1, 2, 3], [4, 5, 6], ][7, 8, \"a\"]\n",
    "new_list = old_list\n",
    "print(\"ID of Old List:\", id(old_list))\n",
    "print(\"ID of New List:\", id(new_list))"
   ]
  },
  {
   "cell_type": "code",
   "execution_count": 9,
   "metadata": {},
   "outputs": [
    {
     "name": "stdout",
     "output_type": "stream",
     "text": [
      "Old List: [[1, 2, 3], [4, 5, 6], 9]\n",
      "New List: [[1, 2, 3], [4, 5, 6], 9]\n"
     ]
    },
    {
     "data": {
      "application/javascript": "\n            setTimeout(function() {\n                var nbb_cell_id = 9;\n                var nbb_unformatted_code = \"new_list[2] = 9\\nprint(\\\"Old List:\\\", old_list)\\nprint(\\\"New List:\\\", new_list)\";\n                var nbb_formatted_code = \"new_list[2] = 9\\nprint(\\\"Old List:\\\", old_list)\\nprint(\\\"New List:\\\", new_list)\";\n                var nbb_cells = Jupyter.notebook.get_cells();\n                for (var i = 0; i < nbb_cells.length; ++i) {\n                    if (nbb_cells[i].input_prompt_number == nbb_cell_id) {\n                        if (nbb_cells[i].get_text() == nbb_unformatted_code) {\n                             nbb_cells[i].set_text(nbb_formatted_code);\n                        }\n                        break;\n                    }\n                }\n            }, 500);\n            ",
      "text/plain": [
       "<IPython.core.display.Javascript object>"
      ]
     },
     "metadata": {},
     "output_type": "display_data"
    }
   ],
   "source": [
    "new_list[2] = 9\n",
    "print(\"Old List:\", old_list)\n",
    "print(\"New List:\", new_list)"
   ]
  },
  {
   "cell_type": "code",
   "execution_count": 10,
   "metadata": {},
   "outputs": [
    {
     "name": "stdout",
     "output_type": "stream",
     "text": [
      "ID of Old List: 2713653828544\n",
      "ID of New List: 2713653828544\n"
     ]
    },
    {
     "data": {
      "application/javascript": "\n            setTimeout(function() {\n                var nbb_cell_id = 10;\n                var nbb_unformatted_code = \"print(\\\"ID of Old List:\\\", id(old_list))\\nprint(\\\"ID of New List:\\\", id(new_list))\";\n                var nbb_formatted_code = \"print(\\\"ID of Old List:\\\", id(old_list))\\nprint(\\\"ID of New List:\\\", id(new_list))\";\n                var nbb_cells = Jupyter.notebook.get_cells();\n                for (var i = 0; i < nbb_cells.length; ++i) {\n                    if (nbb_cells[i].input_prompt_number == nbb_cell_id) {\n                        if (nbb_cells[i].get_text() == nbb_unformatted_code) {\n                             nbb_cells[i].set_text(nbb_formatted_code);\n                        }\n                        break;\n                    }\n                }\n            }, 500);\n            ",
      "text/plain": [
       "<IPython.core.display.Javascript object>"
      ]
     },
     "metadata": {},
     "output_type": "display_data"
    }
   ],
   "source": [
    "print(\"ID of Old List:\", id(old_list))\n",
    "print(\"ID of New List:\", id(new_list))"
   ]
  },
  {
   "cell_type": "markdown",
   "metadata": {},
   "source": [
    "#### Shallow Copy\n",
    "A shallow copy creates a new object which stores the reference of the original elements.\n",
    "\n",
    "So, a shallow copy doesn't create a copy of nested objects, instead it just copies the reference of nested objects. This means, a copy process does not recurse or create copies of nested objects itself."
   ]
  },
  {
   "cell_type": "code",
   "execution_count": 11,
   "metadata": {},
   "outputs": [
    {
     "name": "stdout",
     "output_type": "stream",
     "text": [
      "Old list: [[1, 2, 3], [4, 5, 6], [7, 8, 9]]\n",
      "New list: [[1, 2, 3], [4, 5, 6], [7, 8, 9]]\n",
      "Old list Id: 2713652573056\n",
      "New list Id : 2713653829184\n"
     ]
    },
    {
     "data": {
      "application/javascript": "\n            setTimeout(function() {\n                var nbb_cell_id = 11;\n                var nbb_unformatted_code = \"import copy\\n\\nold_list = [[1, 2, 3], [4, 5, 6], [7, 8, 9]]\\nnew_list = copy.copy(old_list)\\nprint(\\\"Old list:\\\", old_list)\\nprint(\\\"New list:\\\", new_list)\\nprint(\\\"Old list Id:\\\", id(old_list))\\nprint(\\\"New list Id :\\\", id(new_list))\";\n                var nbb_formatted_code = \"import copy\\n\\nold_list = [[1, 2, 3], [4, 5, 6], [7, 8, 9]]\\nnew_list = copy.copy(old_list)\\nprint(\\\"Old list:\\\", old_list)\\nprint(\\\"New list:\\\", new_list)\\nprint(\\\"Old list Id:\\\", id(old_list))\\nprint(\\\"New list Id :\\\", id(new_list))\";\n                var nbb_cells = Jupyter.notebook.get_cells();\n                for (var i = 0; i < nbb_cells.length; ++i) {\n                    if (nbb_cells[i].input_prompt_number == nbb_cell_id) {\n                        if (nbb_cells[i].get_text() == nbb_unformatted_code) {\n                             nbb_cells[i].set_text(nbb_formatted_code);\n                        }\n                        break;\n                    }\n                }\n            }, 500);\n            ",
      "text/plain": [
       "<IPython.core.display.Javascript object>"
      ]
     },
     "metadata": {},
     "output_type": "display_data"
    }
   ],
   "source": [
    "import copy\n",
    "\n",
    "old_list = [[1, 2, 3], [4, 5, 6], [7, 8, 9]]\n",
    "new_list = copy.copy(old_list)\n",
    "print(\"Old list:\", old_list)\n",
    "print(\"New list:\", new_list)\n",
    "print(\"Old list Id:\", id(old_list))\n",
    "print(\"New list Id :\", id(new_list))"
   ]
  },
  {
   "cell_type": "code",
   "execution_count": 12,
   "metadata": {},
   "outputs": [
    {
     "name": "stdout",
     "output_type": "stream",
     "text": [
      "Old list: [[1, 1, 1], [2, 2, 2], [3, 3, 3], [4, 4, 4]]\n",
      "New list: [[1, 1, 1], [2, 2, 2], [3, 3, 3]]\n"
     ]
    },
    {
     "data": {
      "application/javascript": "\n            setTimeout(function() {\n                var nbb_cell_id = 12;\n                var nbb_unformatted_code = \"import copy\\n\\nold_list = [[1, 1, 1], [2, 2, 2], [3, 3, 3]]\\nnew_list = copy.copy(old_list)\\nold_list.append([4, 4, 4])\\nprint(\\\"Old list:\\\", old_list)\\nprint(\\\"New list:\\\", new_list)\";\n                var nbb_formatted_code = \"import copy\\n\\nold_list = [[1, 1, 1], [2, 2, 2], [3, 3, 3]]\\nnew_list = copy.copy(old_list)\\nold_list.append([4, 4, 4])\\nprint(\\\"Old list:\\\", old_list)\\nprint(\\\"New list:\\\", new_list)\";\n                var nbb_cells = Jupyter.notebook.get_cells();\n                for (var i = 0; i < nbb_cells.length; ++i) {\n                    if (nbb_cells[i].input_prompt_number == nbb_cell_id) {\n                        if (nbb_cells[i].get_text() == nbb_unformatted_code) {\n                             nbb_cells[i].set_text(nbb_formatted_code);\n                        }\n                        break;\n                    }\n                }\n            }, 500);\n            ",
      "text/plain": [
       "<IPython.core.display.Javascript object>"
      ]
     },
     "metadata": {},
     "output_type": "display_data"
    }
   ],
   "source": [
    "import copy\n",
    "\n",
    "old_list = [[1, 1, 1], [2, 2, 2], [3, 3, 3]]\n",
    "new_list = copy.copy(old_list)\n",
    "old_list.append([4, 4, 4])\n",
    "print(\"Old list:\", old_list)\n",
    "print(\"New list:\", new_list)"
   ]
  },
  {
   "cell_type": "code",
   "execution_count": 13,
   "metadata": {},
   "outputs": [
    {
     "name": "stdout",
     "output_type": "stream",
     "text": [
      "Old list: [[1, 1, 1], [2, 2, 2]]\n",
      "New list: [[1, 1, 1], [2, 2, 2], [3, 3, 3]]\n"
     ]
    },
    {
     "data": {
      "application/javascript": "\n            setTimeout(function() {\n                var nbb_cell_id = 13;\n                var nbb_unformatted_code = \"import copy\\n\\nold_list = [[1, 1, 1], [2, 2, 2], [3, 3, 3]]\\nnew_list = copy.copy(old_list)\\nold_list.pop()\\nprint(\\\"Old list:\\\", old_list)\\nprint(\\\"New list:\\\", new_list)\";\n                var nbb_formatted_code = \"import copy\\n\\nold_list = [[1, 1, 1], [2, 2, 2], [3, 3, 3]]\\nnew_list = copy.copy(old_list)\\nold_list.pop()\\nprint(\\\"Old list:\\\", old_list)\\nprint(\\\"New list:\\\", new_list)\";\n                var nbb_cells = Jupyter.notebook.get_cells();\n                for (var i = 0; i < nbb_cells.length; ++i) {\n                    if (nbb_cells[i].input_prompt_number == nbb_cell_id) {\n                        if (nbb_cells[i].get_text() == nbb_unformatted_code) {\n                             nbb_cells[i].set_text(nbb_formatted_code);\n                        }\n                        break;\n                    }\n                }\n            }, 500);\n            ",
      "text/plain": [
       "<IPython.core.display.Javascript object>"
      ]
     },
     "metadata": {},
     "output_type": "display_data"
    }
   ],
   "source": [
    "import copy\n",
    "\n",
    "old_list = [[1, 1, 1], [2, 2, 2], [3, 3, 3]]\n",
    "new_list = copy.copy(old_list)\n",
    "old_list.pop()\n",
    "print(\"Old list:\", old_list)\n",
    "print(\"New list:\", new_list)"
   ]
  },
  {
   "cell_type": "markdown",
   "metadata": {},
   "source": [
    "In the above program, we created a shallow copy of old_list. The new_list contains references to original nested objects stored in old_list. Then we add the new list i.e [4, 4, 4] into old_list. This new sublist was not copied in new_list.\n",
    "\n",
    "However, when you change any nested objects in old_list, the changes appear in new_list"
   ]
  },
  {
   "cell_type": "code",
   "execution_count": 14,
   "metadata": {},
   "outputs": [
    {
     "name": "stdout",
     "output_type": "stream",
     "text": [
      "Old list: [[1, 1, 1], [2, 'AA', 2], [3, 3, 3]]\n",
      "New list: [[1, 1, 1], [2, 'AA', 2], [3, 3, 3]]\n",
      "Id Old list: 2713653711232\n",
      "Id New list: 2713653712896\n"
     ]
    },
    {
     "data": {
      "application/javascript": "\n            setTimeout(function() {\n                var nbb_cell_id = 14;\n                var nbb_unformatted_code = \"import copy\\n\\nold_list = [[1, 1, 1], [2, 2, 2], [3, 3, 3]]\\nnew_list = copy.copy(old_list)\\n# old_list[1][1] = 'AA'\\nnew_list[1][1] = \\\"AA\\\"\\nprint(\\\"Old list:\\\", old_list)\\nprint(\\\"New list:\\\", new_list)\\nprint(\\\"Id Old list:\\\", id(old_list))\\nprint(\\\"Id New list:\\\", id(new_list))\";\n                var nbb_formatted_code = \"import copy\\n\\nold_list = [[1, 1, 1], [2, 2, 2], [3, 3, 3]]\\nnew_list = copy.copy(old_list)\\n# old_list[1][1] = 'AA'\\nnew_list[1][1] = \\\"AA\\\"\\nprint(\\\"Old list:\\\", old_list)\\nprint(\\\"New list:\\\", new_list)\\nprint(\\\"Id Old list:\\\", id(old_list))\\nprint(\\\"Id New list:\\\", id(new_list))\";\n                var nbb_cells = Jupyter.notebook.get_cells();\n                for (var i = 0; i < nbb_cells.length; ++i) {\n                    if (nbb_cells[i].input_prompt_number == nbb_cell_id) {\n                        if (nbb_cells[i].get_text() == nbb_unformatted_code) {\n                             nbb_cells[i].set_text(nbb_formatted_code);\n                        }\n                        break;\n                    }\n                }\n            }, 500);\n            ",
      "text/plain": [
       "<IPython.core.display.Javascript object>"
      ]
     },
     "metadata": {},
     "output_type": "display_data"
    }
   ],
   "source": [
    "import copy\n",
    "\n",
    "old_list = [[1, 1, 1], [2, 2, 2], [3, 3, 3]]\n",
    "new_list = copy.copy(old_list)\n",
    "# old_list[1][1] = 'AA'\n",
    "new_list[1][1] = \"AA\"\n",
    "print(\"Old list:\", old_list)\n",
    "print(\"New list:\", new_list)\n",
    "print(\"Id Old list:\", id(old_list))\n",
    "print(\"Id New list:\", id(new_list))"
   ]
  },
  {
   "cell_type": "code",
   "execution_count": 15,
   "metadata": {},
   "outputs": [
    {
     "name": "stdout",
     "output_type": "stream",
     "text": [
      "2713653714368\n",
      "2713653714368\n"
     ]
    },
    {
     "data": {
      "application/javascript": "\n            setTimeout(function() {\n                var nbb_cell_id = 15;\n                var nbb_unformatted_code = \"print(id(old_list[0]))\\nprint(id(new_list[0]))\";\n                var nbb_formatted_code = \"print(id(old_list[0]))\\nprint(id(new_list[0]))\";\n                var nbb_cells = Jupyter.notebook.get_cells();\n                for (var i = 0; i < nbb_cells.length; ++i) {\n                    if (nbb_cells[i].input_prompt_number == nbb_cell_id) {\n                        if (nbb_cells[i].get_text() == nbb_unformatted_code) {\n                             nbb_cells[i].set_text(nbb_formatted_code);\n                        }\n                        break;\n                    }\n                }\n            }, 500);\n            ",
      "text/plain": [
       "<IPython.core.display.Javascript object>"
      ]
     },
     "metadata": {},
     "output_type": "display_data"
    }
   ],
   "source": [
    "print(id(old_list[0]))\n",
    "print(id(new_list[0]))"
   ]
  },
  {
   "cell_type": "markdown",
   "metadata": {},
   "source": [
    "### Deep Copy\n",
    "A deep copy creates a new object and recursively adds the copies of nested objects present in the original elements."
   ]
  },
  {
   "cell_type": "code",
   "execution_count": 16,
   "metadata": {},
   "outputs": [
    {
     "name": "stdout",
     "output_type": "stream",
     "text": [
      "Old list: [[1, 1, 1], [2, 2, 2], [3, 3, 3]]\n",
      "New list: [[1, 1, 1], [2, 2, 2], [3, 3, 3]]\n"
     ]
    },
    {
     "data": {
      "application/javascript": "\n            setTimeout(function() {\n                var nbb_cell_id = 16;\n                var nbb_unformatted_code = \"import copy\\n\\nold_list = [[1, 1, 1], [2, 2, 2], [3, 3, 3]]\\nnew_list = copy.deepcopy(old_list)\\nprint(\\\"Old list:\\\", old_list)\\nprint(\\\"New list:\\\", new_list)\";\n                var nbb_formatted_code = \"import copy\\n\\nold_list = [[1, 1, 1], [2, 2, 2], [3, 3, 3]]\\nnew_list = copy.deepcopy(old_list)\\nprint(\\\"Old list:\\\", old_list)\\nprint(\\\"New list:\\\", new_list)\";\n                var nbb_cells = Jupyter.notebook.get_cells();\n                for (var i = 0; i < nbb_cells.length; ++i) {\n                    if (nbb_cells[i].input_prompt_number == nbb_cell_id) {\n                        if (nbb_cells[i].get_text() == nbb_unformatted_code) {\n                             nbb_cells[i].set_text(nbb_formatted_code);\n                        }\n                        break;\n                    }\n                }\n            }, 500);\n            ",
      "text/plain": [
       "<IPython.core.display.Javascript object>"
      ]
     },
     "metadata": {},
     "output_type": "display_data"
    }
   ],
   "source": [
    "import copy\n",
    "\n",
    "old_list = [[1, 1, 1], [2, 2, 2], [3, 3, 3]]\n",
    "new_list = copy.deepcopy(old_list)\n",
    "print(\"Old list:\", old_list)\n",
    "print(\"New list:\", new_list)"
   ]
  },
  {
   "cell_type": "code",
   "execution_count": 17,
   "metadata": {},
   "outputs": [
    {
     "name": "stdout",
     "output_type": "stream",
     "text": [
      "Old list: [[1, 1, 1], ['BB', 2, 2], [3, 3, 3]]\n",
      "New list: [[1, 1, 1], [2, 2, 2], [3, 3, 3]]\n"
     ]
    },
    {
     "data": {
      "application/javascript": "\n            setTimeout(function() {\n                var nbb_cell_id = 17;\n                var nbb_unformatted_code = \"import copy\\n\\nold_list = [[1, 1, 1], [2, 2, 2], [3, 3, 3]]\\nnew_list = copy.deepcopy(old_list)\\nold_list[1][0] = \\\"BB\\\"\\nprint(\\\"Old list:\\\", old_list)\\nprint(\\\"New list:\\\", new_list)\";\n                var nbb_formatted_code = \"import copy\\n\\nold_list = [[1, 1, 1], [2, 2, 2], [3, 3, 3]]\\nnew_list = copy.deepcopy(old_list)\\nold_list[1][0] = \\\"BB\\\"\\nprint(\\\"Old list:\\\", old_list)\\nprint(\\\"New list:\\\", new_list)\";\n                var nbb_cells = Jupyter.notebook.get_cells();\n                for (var i = 0; i < nbb_cells.length; ++i) {\n                    if (nbb_cells[i].input_prompt_number == nbb_cell_id) {\n                        if (nbb_cells[i].get_text() == nbb_unformatted_code) {\n                             nbb_cells[i].set_text(nbb_formatted_code);\n                        }\n                        break;\n                    }\n                }\n            }, 500);\n            ",
      "text/plain": [
       "<IPython.core.display.Javascript object>"
      ]
     },
     "metadata": {},
     "output_type": "display_data"
    }
   ],
   "source": [
    "import copy\n",
    "\n",
    "old_list = [[1, 1, 1], [2, 2, 2], [3, 3, 3]]\n",
    "new_list = copy.deepcopy(old_list)\n",
    "old_list[1][0] = \"BB\"\n",
    "print(\"Old list:\", old_list)\n",
    "print(\"New list:\", new_list)"
   ]
  },
  {
   "cell_type": "code",
   "execution_count": 18,
   "metadata": {},
   "outputs": [
    {
     "name": "stdout",
     "output_type": "stream",
     "text": [
      "Old list Id: 2713655470144\n",
      "New list Id : 2713655667008\n"
     ]
    },
    {
     "data": {
      "application/javascript": "\n            setTimeout(function() {\n                var nbb_cell_id = 18;\n                var nbb_unformatted_code = \"print(\\\"Old list Id:\\\", id(old_list[0]))\\nprint(\\\"New list Id :\\\", id(new_list[0]))\";\n                var nbb_formatted_code = \"print(\\\"Old list Id:\\\", id(old_list[0]))\\nprint(\\\"New list Id :\\\", id(new_list[0]))\";\n                var nbb_cells = Jupyter.notebook.get_cells();\n                for (var i = 0; i < nbb_cells.length; ++i) {\n                    if (nbb_cells[i].input_prompt_number == nbb_cell_id) {\n                        if (nbb_cells[i].get_text() == nbb_unformatted_code) {\n                             nbb_cells[i].set_text(nbb_formatted_code);\n                        }\n                        break;\n                    }\n                }\n            }, 500);\n            ",
      "text/plain": [
       "<IPython.core.display.Javascript object>"
      ]
     },
     "metadata": {},
     "output_type": "display_data"
    }
   ],
   "source": [
    "print(\"Old list Id:\", id(old_list[0]))\n",
    "print(\"New list Id :\", id(new_list[0]))"
   ]
  },
  {
   "cell_type": "code",
   "execution_count": 19,
   "metadata": {},
   "outputs": [
    {
     "name": "stdout",
     "output_type": "stream",
     "text": [
      "Old list: [1, 2, 0]\n",
      "New list: [1, 2, 3]\n"
     ]
    },
    {
     "data": {
      "application/javascript": "\n            setTimeout(function() {\n                var nbb_cell_id = 19;\n                var nbb_unformatted_code = \"import copy\\n\\nold_list = [1, 2, 3]\\nnew_list = copy.copy(old_list)\\nold_list[2] = 0  # applicable only on nested element list inside list\\nprint(\\\"Old list:\\\", old_list)\\nprint(\\\"New list:\\\", new_list)\";\n                var nbb_formatted_code = \"import copy\\n\\nold_list = [1, 2, 3]\\nnew_list = copy.copy(old_list)\\nold_list[2] = 0  # applicable only on nested element list inside list\\nprint(\\\"Old list:\\\", old_list)\\nprint(\\\"New list:\\\", new_list)\";\n                var nbb_cells = Jupyter.notebook.get_cells();\n                for (var i = 0; i < nbb_cells.length; ++i) {\n                    if (nbb_cells[i].input_prompt_number == nbb_cell_id) {\n                        if (nbb_cells[i].get_text() == nbb_unformatted_code) {\n                             nbb_cells[i].set_text(nbb_formatted_code);\n                        }\n                        break;\n                    }\n                }\n            }, 500);\n            ",
      "text/plain": [
       "<IPython.core.display.Javascript object>"
      ]
     },
     "metadata": {},
     "output_type": "display_data"
    }
   ],
   "source": [
    "import copy\n",
    "\n",
    "old_list = [1, 2, 3]\n",
    "new_list = copy.copy(old_list)\n",
    "old_list[2] = 0  # applicable only on nested element list inside list\n",
    "print(\"Old list:\", old_list)\n",
    "print(\"New list:\", new_list)"
   ]
  },
  {
   "cell_type": "code",
   "execution_count": 20,
   "metadata": {},
   "outputs": [
    {
     "name": "stdout",
     "output_type": "stream",
     "text": [
      "Old list: [11, 112, 0]\n",
      "New list: [11, 112, 13]\n"
     ]
    },
    {
     "data": {
      "application/javascript": "\n            setTimeout(function() {\n                var nbb_cell_id = 20;\n                var nbb_unformatted_code = \"import copy\\n\\nold_list = [11, 112, 13]\\nnew_list = copy.deepcopy(old_list)\\nold_list[2] = 0\\nprint(\\\"Old list:\\\", old_list)\\nprint(\\\"New list:\\\", new_list)\";\n                var nbb_formatted_code = \"import copy\\n\\nold_list = [11, 112, 13]\\nnew_list = copy.deepcopy(old_list)\\nold_list[2] = 0\\nprint(\\\"Old list:\\\", old_list)\\nprint(\\\"New list:\\\", new_list)\";\n                var nbb_cells = Jupyter.notebook.get_cells();\n                for (var i = 0; i < nbb_cells.length; ++i) {\n                    if (nbb_cells[i].input_prompt_number == nbb_cell_id) {\n                        if (nbb_cells[i].get_text() == nbb_unformatted_code) {\n                             nbb_cells[i].set_text(nbb_formatted_code);\n                        }\n                        break;\n                    }\n                }\n            }, 500);\n            ",
      "text/plain": [
       "<IPython.core.display.Javascript object>"
      ]
     },
     "metadata": {},
     "output_type": "display_data"
    }
   ],
   "source": [
    "import copy\n",
    "\n",
    "old_list = [11, 112, 13]\n",
    "new_list = copy.deepcopy(old_list)\n",
    "old_list[2] = 0\n",
    "print(\"Old list:\", old_list)\n",
    "print(\"New list:\", new_list)"
   ]
  },
  {
   "cell_type": "code",
   "execution_count": 21,
   "metadata": {},
   "outputs": [
    {
     "name": "stdout",
     "output_type": "stream",
     "text": [
      "Old list: 2713655447808\n",
      "New list: 2713655668608\n"
     ]
    },
    {
     "data": {
      "application/javascript": "\n            setTimeout(function() {\n                var nbb_cell_id = 21;\n                var nbb_unformatted_code = \"import copy\\n\\nold_list = [11, 112, 13]\\ndeep_new_list = copy.deepcopy(old_list)\\nprint(\\\"Old list:\\\", id(old_list))\\nprint(\\\"New list:\\\", id(deep_new_list))\";\n                var nbb_formatted_code = \"import copy\\n\\nold_list = [11, 112, 13]\\ndeep_new_list = copy.deepcopy(old_list)\\nprint(\\\"Old list:\\\", id(old_list))\\nprint(\\\"New list:\\\", id(deep_new_list))\";\n                var nbb_cells = Jupyter.notebook.get_cells();\n                for (var i = 0; i < nbb_cells.length; ++i) {\n                    if (nbb_cells[i].input_prompt_number == nbb_cell_id) {\n                        if (nbb_cells[i].get_text() == nbb_unformatted_code) {\n                             nbb_cells[i].set_text(nbb_formatted_code);\n                        }\n                        break;\n                    }\n                }\n            }, 500);\n            ",
      "text/plain": [
       "<IPython.core.display.Javascript object>"
      ]
     },
     "metadata": {},
     "output_type": "display_data"
    }
   ],
   "source": [
    "import copy\n",
    "\n",
    "old_list = [11, 112, 13]\n",
    "deep_new_list = copy.deepcopy(old_list)\n",
    "print(\"Old list:\", id(old_list))\n",
    "print(\"New list:\", id(deep_new_list))"
   ]
  },
  {
   "cell_type": "code",
   "execution_count": 22,
   "metadata": {},
   "outputs": [
    {
     "name": "stdout",
     "output_type": "stream",
     "text": [
      "Old list: 2713655688256\n",
      "New list: 2713655687296\n"
     ]
    },
    {
     "data": {
      "application/javascript": "\n            setTimeout(function() {\n                var nbb_cell_id = 22;\n                var nbb_unformatted_code = \"import copy\\n\\nold_list = [11, 112, 13]\\ndeep_new_list = copy.copy(old_list)\\nprint(\\\"Old list:\\\", id(old_list))\\nprint(\\\"New list:\\\", id(deep_new_list))\";\n                var nbb_formatted_code = \"import copy\\n\\nold_list = [11, 112, 13]\\ndeep_new_list = copy.copy(old_list)\\nprint(\\\"Old list:\\\", id(old_list))\\nprint(\\\"New list:\\\", id(deep_new_list))\";\n                var nbb_cells = Jupyter.notebook.get_cells();\n                for (var i = 0; i < nbb_cells.length; ++i) {\n                    if (nbb_cells[i].input_prompt_number == nbb_cell_id) {\n                        if (nbb_cells[i].get_text() == nbb_unformatted_code) {\n                             nbb_cells[i].set_text(nbb_formatted_code);\n                        }\n                        break;\n                    }\n                }\n            }, 500);\n            ",
      "text/plain": [
       "<IPython.core.display.Javascript object>"
      ]
     },
     "metadata": {},
     "output_type": "display_data"
    }
   ],
   "source": [
    "import copy\n",
    "\n",
    "old_list = [11, 112, 13]\n",
    "deep_new_list = copy.copy(old_list)\n",
    "print(\"Old list:\", id(old_list))\n",
    "print(\"New list:\", id(deep_new_list))"
   ]
  },
  {
   "cell_type": "markdown",
   "metadata": {},
   "source": [
    "#### 3 Things to Remember\n",
    "-  Making a shallow copy of an object won’t clone child objects. Therefore, the copy is not fully independent of the original.\n",
    "-  A deep copy of an object will recursively clone child objects. The clone is fully independent of the original, but creating a deep copy is slower.\n",
    "-  You can copy arbitrary objects (including custom classes) with the copy module."
   ]
  },
  {
   "cell_type": "code",
   "execution_count": null,
   "metadata": {},
   "outputs": [],
   "source": []
  }
 ],
 "metadata": {
  "kernelspec": {
   "display_name": "Python 3",
   "language": "python",
   "name": "python3"
  },
  "language_info": {
   "codemirror_mode": {
    "name": "ipython",
    "version": 3
   },
   "file_extension": ".py",
   "mimetype": "text/x-python",
   "name": "python",
   "nbconvert_exporter": "python",
   "pygments_lexer": "ipython3",
   "version": "3.9.0"
  }
 },
 "nbformat": 4,
 "nbformat_minor": 2
}
