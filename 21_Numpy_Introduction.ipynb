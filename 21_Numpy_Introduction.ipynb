{
 "cells": [
  {
   "cell_type": "markdown",
   "metadata": {},
   "source": [
    "### What is Python Numpy Array?\n",
    "NumPy arrays are a bit like Python lists, but still very much different at the same time. For those of you who are new to the topic, let’s clarify what it exactly is and what it’s good for.\n",
    "\n",
    "As the name kind of gives away, a NumPy array is a central data structure of the numpy library. The library’s name is actually short for \"Numeric Python\" or \"Numerical Python\".\n",
    "\n",
    "What is a Python NumPy?\n",
    "NumPy is a Python package which stands for ‘Numerical Python’. It is the core library for scientific computing, which contains a powerful n-dimensional array object, provide tools for integrating C, C++ etc. It is also useful in linear algebra, random number capability etc. NumPy array can also be used as an efficient multi-dimensional container for generic data. Now, let me tell you what exactly is a python numpy array.\n",
    "\n",
    "NumPy Array: Numpy array is a powerful N-dimensional array object which is in the form of rows and columns. We can initialize numpy arrays from nested Python lists and access it elements. In order to perform these numpy operations, the next question which will come in your mind is:"
   ]
  },
  {
   "cell_type": "markdown",
   "metadata": {},
   "source": [
    "![Interpreter](MultiDimensionalArray.jpeg)"
   ]
  },
  {
   "cell_type": "markdown",
   "metadata": {},
   "source": [
    "### Python NumPy Array v/s List\n",
    "We use python numpy array instead of a list because of the below three reasons:\n",
    "\n",
    "- Less Memory\n",
    "- Fast\n",
    "- Convenient\n",
    "\n",
    "The very first reason to choose python numpy array is that it occupies less memory as compared to list. Then, it is pretty fast in terms of execution and at the same time it is very convenient to work with numpy. So these are the major advantages that python numpy array has over list. Consider the below example:"
   ]
  },
  {
   "cell_type": "code",
   "execution_count": null,
   "metadata": {},
   "outputs": [],
   "source": [
    "import numpy as np\n",
    "import time\n",
    "import sys\n",
    "S= range(1000)\n",
    "print(sys.getsizeof(8)*len(S))\n",
    "D= np.arange(1000)\n",
    "print(D.size*D.itemsize)"
   ]
  },
  {
   "cell_type": "code",
   "execution_count": null,
   "metadata": {},
   "outputs": [],
   "source": [
    "pip install numpy"
   ]
  },
  {
   "cell_type": "code",
   "execution_count": 4,
   "metadata": {},
   "outputs": [
    {
     "name": "stdout",
     "output_type": "stream",
     "text": [
      "167.03557968139648\n",
      "49.987077713012695\n"
     ]
    }
   ],
   "source": [
    "import time\n",
    "import sys\n",
    "import numpy as np\n",
    "\n",
    " \n",
    "SIZE = 1000000\n",
    " \n",
    "L1= range(SIZE)\n",
    "L2= range(SIZE)\n",
    "A1= np.arange(SIZE)\n",
    "A2=np.arange(SIZE)\n",
    " \n",
    "start= time.time()\n",
    "result=[(x,y) for x,y in zip(L1,L2)]\n",
    "print((time.time()-start)*1000)\n",
    " \n",
    "start=time.time()\n",
    "result= A1+A2\n",
    "print((time.time()-start)*1000)"
   ]
  },
  {
   "cell_type": "code",
   "execution_count": null,
   "metadata": {},
   "outputs": [],
   "source": [
    "### Create a NumPy Array\n"
   ]
  },
  {
   "cell_type": "code",
   "execution_count": null,
   "metadata": {},
   "outputs": [],
   "source": [
    "import numpy as np\n",
    "myPythonList = [1,9,8,3]\n",
    "a  = np.array([1,9,8,3])\t\t\t\t\n",
    "a"
   ]
  },
  {
   "cell_type": "code",
   "execution_count": null,
   "metadata": {},
   "outputs": [],
   "source": [
    "a + 10"
   ]
  },
  {
   "cell_type": "code",
   "execution_count": 1,
   "metadata": {},
   "outputs": [
    {
     "name": "stdout",
     "output_type": "stream",
     "text": [
      "(3,)\n",
      "int32\n"
     ]
    }
   ],
   "source": [
    "import numpy as np\n",
    "a  = np.array([1,2,3])\n",
    "print(a.shape)\n",
    "print(a.dtype)"
   ]
  },
  {
   "cell_type": "code",
   "execution_count": null,
   "metadata": {},
   "outputs": [],
   "source": [
    "b  = np.array([1.1,2.0,3.2])\n",
    "print(b.dtype)"
   ]
  },
  {
   "cell_type": "code",
   "execution_count": null,
   "metadata": {},
   "outputs": [],
   "source": [
    "### 2 dimension\n",
    "c = np.array([(1,2,3),\n",
    "              (4,5,6)])\n",
    "print(c.shape)"
   ]
  },
  {
   "cell_type": "code",
   "execution_count": null,
   "metadata": {},
   "outputs": [],
   "source": [
    "### 3 dimension\n",
    "d = np.array([\n",
    "    [[1, 2,3],\n",
    "        [4, 5, 6]],\n",
    "    [[7, 8,9],\n",
    "        [10, 11, 12]]\n",
    "])\n",
    "print(d.shape)"
   ]
  },
  {
   "cell_type": "markdown",
   "metadata": {},
   "source": [
    "### numpy.zeros() and numpy.ones() in Python\n"
   ]
  },
  {
   "cell_type": "raw",
   "metadata": {},
   "source": [
    "numpy.zeros(shape, dtype=float, order='C')\n",
    "numpy.ones(shape, dtype=float, order='C')\n",
    "Shape: is the shape of the array\n",
    "Dtype: is the datatype. It is optional. The default value is float64\n",
    "Order: Default is C which is an essential row style.\n",
    "\n"
   ]
  },
  {
   "cell_type": "code",
   "execution_count": null,
   "metadata": {},
   "outputs": [],
   "source": [
    "import numpy as np\n",
    "np.zeros((2,2))"
   ]
  },
  {
   "cell_type": "code",
   "execution_count": null,
   "metadata": {},
   "outputs": [],
   "source": [
    "import numpy as np\n",
    "np.zeros((2,2), dtype=np.int16)"
   ]
  },
  {
   "cell_type": "code",
   "execution_count": null,
   "metadata": {},
   "outputs": [],
   "source": []
  },
  {
   "cell_type": "code",
   "execution_count": null,
   "metadata": {},
   "outputs": [],
   "source": [
    "import numpy as np\n",
    "np.ones((1,2,3), dtype=np.int16)\t\t\t\n"
   ]
  },
  {
   "cell_type": "markdown",
   "metadata": {},
   "source": [
    "### NumPy - Array Attributes\n",
    "ndarray.shape\n",
    "<br> This array attribute returns a tuple consisting of array dimensions. It can also be used to resize the array."
   ]
  },
  {
   "cell_type": "code",
   "execution_count": null,
   "metadata": {},
   "outputs": [],
   "source": [
    "import numpy as np \n",
    "a = np.array([[1,2,3],[4,5,6]]) \n",
    "print(a.shape)\n",
    "print(a.ndim)\n",
    "print(a.itemsize)\n",
    "print(a.size)\n",
    "print(\"itemsize:\", a.itemsize, \"bytes\")\n",
    "print(\"nbytes:\", a.nbytes, \"bytes\")"
   ]
  },
  {
   "cell_type": "markdown",
   "metadata": {},
   "source": [
    "### numpy.reshape() and numpy.flatten() in Python\n"
   ]
  },
  {
   "cell_type": "markdown",
   "metadata": {},
   "source": [
    "numpy.reshape(a, newShape, order='C')\n"
   ]
  },
  {
   "cell_type": "code",
   "execution_count": null,
   "metadata": {},
   "outputs": [],
   "source": [
    "import numpy as np\n",
    "e  = np.array([(1,2,3), (4,5,6)])\n",
    "print(e)\n",
    "e.reshape(3,2)"
   ]
  },
  {
   "cell_type": "code",
   "execution_count": null,
   "metadata": {},
   "outputs": [],
   "source": [
    "e.flatten()\t\t\t"
   ]
  },
  {
   "cell_type": "markdown",
   "metadata": {},
   "source": [
    "### numpy.hstack() and numpy.vstack() in Python with Example\n"
   ]
  },
  {
   "cell_type": "code",
   "execution_count": null,
   "metadata": {},
   "outputs": [],
   "source": [
    "## Horitzontal Stack\n",
    "import numpy as np\n",
    "f = np.array([1,2,3])\n",
    "g = np.array([4,5,6])\n",
    "\n",
    "print('Horizontal Append:', np.hstack((f, g)))"
   ]
  },
  {
   "cell_type": "markdown",
   "metadata": {},
   "source": [
    "With vstack you can appened data vertically. Lets study it with an example:\n"
   ]
  },
  {
   "cell_type": "code",
   "execution_count": null,
   "metadata": {},
   "outputs": [],
   "source": [
    "## Vertical Stack\n",
    "import numpy as np\n",
    "f = np.array([1,2,3])\n",
    "g = np.array([4,5,6])\n",
    "\n",
    "print('Vertical Append:', np.vstack((f, g)))"
   ]
  },
  {
   "cell_type": "markdown",
   "metadata": {},
   "source": [
    "### Generate Random Numbers\n"
   ]
  },
  {
   "cell_type": "code",
   "execution_count": null,
   "metadata": {},
   "outputs": [],
   "source": [
    "## Generate random nmber from normal distribution\n",
    "normal_array = np.random.normal(5, 0.5, 10)\n",
    "print(normal_array)"
   ]
  },
  {
   "cell_type": "markdown",
   "metadata": {},
   "source": [
    "### numpy.arange() \n"
   ]
  },
  {
   "cell_type": "markdown",
   "metadata": {},
   "source": [
    "numpy.arange(start, stop,step) \n"
   ]
  },
  {
   "cell_type": "code",
   "execution_count": null,
   "metadata": {},
   "outputs": [],
   "source": [
    "import numpy as np\n",
    "np.arange(1, 11)"
   ]
  },
  {
   "cell_type": "code",
   "execution_count": null,
   "metadata": {},
   "outputs": [],
   "source": [
    "import numpy as np\n",
    "np.arange(1, 14, 4)"
   ]
  },
  {
   "cell_type": "code",
   "execution_count": null,
   "metadata": {},
   "outputs": [],
   "source": [
    "### numpy.linspace() and numpy.logspace() \n"
   ]
  },
  {
   "cell_type": "markdown",
   "metadata": {},
   "source": [
    "Linspace gives evenly spaced samples."
   ]
  },
  {
   "cell_type": "markdown",
   "metadata": {},
   "source": [
    "numpy.linspace(start, stop, num, endpoint)"
   ]
  },
  {
   "cell_type": "code",
   "execution_count": null,
   "metadata": {},
   "outputs": [],
   "source": [
    "import numpy as np\n",
    "np.linspace(1.0, 5.0, num=10)"
   ]
  },
  {
   "cell_type": "code",
   "execution_count": null,
   "metadata": {},
   "outputs": [],
   "source": [
    "# If you do not want to include the last digit in the interval, you can set endpoint to false\n",
    "np.linspace(1.0, 5.0, num=5, endpoint=False)"
   ]
  },
  {
   "cell_type": "markdown",
   "metadata": {},
   "source": [
    "numpy.logspace(start, stop, num, endpoint)\n"
   ]
  },
  {
   "cell_type": "code",
   "execution_count": null,
   "metadata": {},
   "outputs": [],
   "source": [
    "np.logspace(3.0, 4.0, num=4)\t"
   ]
  },
  {
   "cell_type": "code",
   "execution_count": null,
   "metadata": {},
   "outputs": [],
   "source": [
    "x = np.array([1,2,3], dtype=np.complex128)\n",
    "x.itemsize"
   ]
  },
  {
   "cell_type": "code",
   "execution_count": null,
   "metadata": {},
   "outputs": [],
   "source": [
    "## Slice\n",
    "import numpy as np\n",
    "e  = np.array([(1,2,3), (4,5,6)])\n",
    "print(e)"
   ]
  },
  {
   "cell_type": "code",
   "execution_count": null,
   "metadata": {},
   "outputs": [],
   "source": [
    "## First column\n",
    "print('First row:', e[0])\n",
    "print('second row:', e[1])"
   ]
  },
  {
   "cell_type": "code",
   "execution_count": null,
   "metadata": {},
   "outputs": [],
   "source": [
    "print('Second column:', e[:,1])\t\t\t\n"
   ]
  },
  {
   "cell_type": "code",
   "execution_count": null,
   "metadata": {},
   "outputs": [],
   "source": [
    "## Second Row, two values\n",
    "print(e[1, :2])\t"
   ]
  },
  {
   "cell_type": "markdown",
   "metadata": {},
   "source": [
    "### NumPy Statistical Functions"
   ]
  },
  {
   "cell_type": "code",
   "execution_count": null,
   "metadata": {},
   "outputs": [],
   "source": [
    "import numpy as np\n",
    "normal_array = np.random.normal(5, 0.5, 10)\n",
    "print(normal_array)"
   ]
  },
  {
   "cell_type": "code",
   "execution_count": null,
   "metadata": {},
   "outputs": [],
   "source": [
    "### Min \n",
    "print(np.min(normal_array))\n",
    "\n",
    "### Max \n",
    "print(np.max(normal_array))\n",
    "\n",
    "### Mean \n",
    "print(np.mean(normal_array))\n",
    "\n",
    "### Median\n",
    "print(np.median(normal_array))\n",
    "\n",
    "### Sd\n",
    "print(np.std(normal_array))"
   ]
  },
  {
   "cell_type": "markdown",
   "metadata": {},
   "source": [
    "### numpy.dot(): Dot Product "
   ]
  },
  {
   "cell_type": "markdown",
   "metadata": {},
   "source": [
    "Numpy is powerful library for matrices computation. For instance, you can compute the dot product with np.dot"
   ]
  },
  {
   "cell_type": "markdown",
   "metadata": {},
   "source": [
    "numpy.dot(x, y, out=None)\n"
   ]
  },
  {
   "cell_type": "code",
   "execution_count": null,
   "metadata": {},
   "outputs": [],
   "source": [
    "## Linear algebra\n",
    "### Dot product: product of two arrays\n",
    "f = np.array([1,2])\n",
    "g = np.array([4,5])\n",
    "### 1*4+2*5\n",
    "np.dot(f, g)"
   ]
  },
  {
   "cell_type": "markdown",
   "metadata": {},
   "source": [
    "### NumPy Matrix Multiplication with np.matmul() \n"
   ]
  },
  {
   "cell_type": "markdown",
   "metadata": {},
   "source": [
    "numpy.matmul(x, y, out=None)"
   ]
  },
  {
   "cell_type": "code",
   "execution_count": null,
   "metadata": {},
   "outputs": [],
   "source": [
    "### Matmul: matruc product of two arrays\n",
    "h = [[1,2],[3,4]] \n",
    "i = [[5,6],[7,8]] \n",
    "### 1*5+2*7 = 19\n",
    "np.matmul(h, i)"
   ]
  },
  {
   "cell_type": "code",
   "execution_count": null,
   "metadata": {},
   "outputs": [],
   "source": [
    "import numpy as np\n",
    "import matplotlib.pyplot as plt\n",
    "x= np.arange(0,3*np.pi,0.1)\n",
    "y=np.sin(x)\n",
    "plt.plot(x,y)\n",
    "plt.show()"
   ]
  },
  {
   "cell_type": "code",
   "execution_count": null,
   "metadata": {},
   "outputs": [],
   "source": [
    "import numpy as np\n",
    "import matplotlib.pyplot as plt\n",
    "x= np.arange(0,3*np.pi,0.1)\n",
    "y=np.tan(x)\n",
    "plt.plot(x,y)\n",
    "plt.show()"
   ]
  },
  {
   "cell_type": "code",
   "execution_count": null,
   "metadata": {},
   "outputs": [],
   "source": []
  }
 ],
 "metadata": {
  "kernelspec": {
   "display_name": "Python 3",
   "language": "python",
   "name": "python3"
  },
  "language_info": {
   "codemirror_mode": {
    "name": "ipython",
    "version": 3
   },
   "file_extension": ".py",
   "mimetype": "text/x-python",
   "name": "python",
   "nbconvert_exporter": "python",
   "pygments_lexer": "ipython3",
   "version": "3.9.0"
  }
 },
 "nbformat": 4,
 "nbformat_minor": 2
}
